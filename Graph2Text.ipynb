{
  "cells": [
    {
      "cell_type": "markdown",
      "source": [
        "# 1.Setup:\n"
      ],
      "metadata": {
        "id": "W2mj2xbzmRsE"
      }
    },
    {
      "cell_type": "markdown",
      "source": [
        "### a. Install & Load Pkgs"
      ],
      "metadata": {
        "id": "RRvXkPogpkpR"
      }
    },
    {
      "cell_type": "code",
      "execution_count": null,
      "metadata": {
        "id": "wHtnpJ2pGONA"
      },
      "outputs": [],
      "source": [
        "# If you have installed dgl-cuXX package, please uninstall it first.\n",
        "!pip install  dgl -f https://data.dgl.ai/wheels/cu118/repo.html\n",
        "!pip install  dglgo -f https://data.dgl.ai/wheels-test/repo.html\n",
        "!pip install transformers"
      ]
    },
    {
      "cell_type": "code",
      "execution_count": null,
      "metadata": {
        "id": "WJ6HnzAoFoe_"
      },
      "outputs": [],
      "source": [
        "import pandas as pd\n",
        "import dgl\n",
        "import random\n",
        "import networkx as nx\n",
        "import matplotlib.pyplot as plt\n",
        "import seaborn as sns\n",
        "import numpy as np\n",
        "from matplotlib.pyplot import figure\n",
        "import matplotlib.patches as mpatches\n",
        "from matplotlib.patches import Patch\n",
        "import matplotlib.lines as mlines\n",
        "from networkx.algorithms import centrality, cluster\n",
        "import copy\n",
        "import torch\n",
        "import gc\n",
        "from tqdm.auto import tqdm\n",
        "from transformers import LongformerTokenizer, LongformerForSequenceClassification, AdamW\n",
        "from transformers import AutoTokenizer, BertForSequenceClassification, RobertaForSequenceClassification, RobertaTokenizer\n",
        "from torch.utils.data import Dataset, DataLoader\n",
        "from sklearn.metrics import mean_absolute_error\n",
        "from scipy.linalg import eigh\n",
        "from networkx.algorithms.shortest_paths.generic import average_shortest_path_length\n",
        "from collections import Counter\n",
        "import matplotlib.colors as mcolors\n",
        "import matplotlib.cm as cm\n",
        "from sklearn.preprocessing import MinMaxScaler\n",
        "from operator import itemgetter\n",
        "from itertools import count\n",
        "from functools import reduce\n",
        "import pickle\n",
        "import os\n",
        "from scipy import stats\n",
        "%matplotlib inline"
      ]
    },
    {
      "cell_type": "markdown",
      "source": [
        "### b. Download dataset\n",
        "Download ZINC full dataset from From \"A Generalization of Transformer Networks to Graphs\" paper by Vijay Prakash Dwivedi and Xavier Bresson, 2021\n"
      ],
      "metadata": {
        "id": "uzCqngjfOqY6"
      }
    },
    {
      "cell_type": "code",
      "source": [
        "if not os.path.isfile('zinc_full.zip'):\n",
        "    print('downloading..')\n",
        "    !curl https://www.dropbox.com/s/zfp10k5poe9wpf2/zinc_full.zip?dl=0 -o zinc_full.zip -J -L -k\n",
        "    !unzip zinc_full.zip -d ./\n",
        "else:\n",
        "    print('File already downloaded')"
      ],
      "metadata": {
        "id": "iEOJ4BJHOQzJ",
        "colab": {
          "base_uri": "https://localhost:8080/"
        },
        "outputId": "ae696f48-651c-4a64-e68b-c0258da220ab"
      },
      "execution_count": 3,
      "outputs": [
        {
          "output_type": "stream",
          "name": "stdout",
          "text": [
            "downloading..\n",
            "  % Total    % Received % Xferd  Average Speed   Time    Time     Time  Current\n",
            "                                 Dload  Upload   Total   Spent    Left  Speed\n",
            "100    17    0    17    0     0     65      0 --:--:-- --:--:-- --:--:--    65\n",
            "100   340  100   340    0     0    509      0 --:--:-- --:--:-- --:--:--     0\n",
            "100   534    0   534    0     0    492      0 --:--:--  0:00:01 --:--:--   492\n",
            "100 43.6M  100 43.6M    0     0  10.9M      0  0:00:03  0:00:03 --:--:-- 16.4M\n",
            "Archive:  zinc_full.zip\n",
            "   creating: ./zinc_full/\n",
            "  inflating: ./__MACOSX/._zinc_full  \n",
            "  inflating: ./zinc_full/test.pickle  \n",
            "  inflating: ./__MACOSX/zinc_full/._test.pickle  \n",
            "  inflating: ./zinc_full/train.index  \n",
            "  inflating: ./__MACOSX/zinc_full/._train.index  \n",
            "  inflating: ./zinc_full/.DS_Store   \n",
            "  inflating: ./__MACOSX/zinc_full/._.DS_Store  \n",
            "  inflating: ./zinc_full/val.index   \n",
            "  inflating: ./__MACOSX/zinc_full/._val.index  \n",
            "  inflating: ./zinc_full/val.pickle  \n",
            "  inflating: ./__MACOSX/zinc_full/._val.pickle  \n",
            "  inflating: ./zinc_full/test.index  \n",
            "  inflating: ./__MACOSX/zinc_full/._test.index  \n",
            "  inflating: ./zinc_full/atom_dict.pickle  \n",
            "  inflating: ./__MACOSX/zinc_full/._atom_dict.pickle  \n",
            "  inflating: ./zinc_full/bond_dict.pickle  \n",
            "  inflating: ./__MACOSX/zinc_full/._bond_dict.pickle  \n",
            "  inflating: ./zinc_full/train.pickle  \n",
            "  inflating: ./__MACOSX/zinc_full/._train.pickle  \n"
          ]
        }
      ]
    },
    {
      "cell_type": "markdown",
      "source": [
        "# 2.Data Preparation\n",
        "\n"
      ],
      "metadata": {
        "id": "PGLNcQhV4JNM"
      }
    },
    {
      "cell_type": "markdown",
      "source": [
        "### a.Loading the data\n",
        "In the data preparation phase of this project, we began by loading the original ZINC dataset as used in the Graph Transformer paper. The dataset contains molecular data structured as graphs, where each graph represents a molecule and the nodes and edges represent atoms and bonds, respectively. To ensure the reproducibility of our results, we strictly followed the original partition of the data into training, validation, and test sets according to the indices specified in the authors' GitHub repository. We then conducted a preliminary preprocessing of the data, focusing on the node (atom) and edge (bond) types. All spaces in the atom and bond type descriptions were removed to facilitate the tokenization process, and bond types were converted to lowercase. This step was crucial as it ensured that our tokenizer treats atom and bond types consistently, leading to a more robust representation of our molecular data."
      ],
      "metadata": {
        "id": "QZxpUq5XqGk6"
      }
    },
    {
      "cell_type": "code",
      "source": [
        "class Dictionary:\n",
        "    def __init__(self, data):\n",
        "        self.data = data\n",
        "\n",
        "# Load atom and bond dictionaries\n",
        "with open('/content/zinc_full/atom_dict.pickle', 'rb') as f:\n",
        "    atom_dict = pickle.load(f)\n",
        "with open('/content/zinc_full/bond_dict.pickle', 'rb') as f:\n",
        "    bond_dict = pickle.load(f)\n",
        "\n",
        "atom_list = [item.replace(' ', '') for item in atom_dict.idx2word]\n",
        "replacements = {'NONE': 'none', 'SINGLE': 'single', 'DOUBLE': 'double', 'TRIPLE': 'triple'}\n",
        "bond_list = [reduce(lambda a, kv: a.replace(*kv), replacements.items(), item) for item in bond_dict.idx2word]\n",
        "\n",
        "# Load train, val, and test data\n",
        "with open('/content/zinc_full/train.pickle', 'rb') as f:\n",
        "    train_data = pickle.load(f)\n",
        "with open('/content/zinc_full/val.pickle', 'rb') as f:\n",
        "    val_data = pickle.load(f)\n",
        "with open('/content/zinc_full/test.pickle', 'rb') as f:\n",
        "    test_data = pickle.load(f)\n",
        "\n",
        "# use the same train, val, and test datasets from the graphtransformer paper\n",
        "with open('/content/zinc_full/test.index', 'r') as file:\n",
        "    test_content = file.read()\n",
        "test_idx = [int(item) for item in test_content.split(',')]\n",
        "with open('/content/zinc_full/val.index', 'r') as file:\n",
        "    val_content = file.read()\n",
        "val_idx = [int(item) for item in val_content.split(',')]\n",
        "with open('/content/zinc_full/train.index', 'r') as file:\n",
        "    train_content = file.read()\n",
        "train_idx = [int(item) for item in train_content.split(',')]\n",
        "\n",
        "\n",
        "zink12k_test = [test_data[i] for i in test_idx]\n",
        "zink12k_val = [val_data[i] for i in val_idx]\n",
        "zink12k_train = [train_data[i] for i in train_idx]\n",
        "\n",
        "# Create a dictionary to hold all your datasets\n",
        "ZINCDatasets = {\n",
        "    'train': zink12k_train,\n",
        "    'val': zink12k_val,\n",
        "    'test': zink12k_test,\n",
        "}\n",
        "\n",
        "print(atom_list)\n",
        "print(bond_list)"
      ],
      "metadata": {
        "colab": {
          "base_uri": "https://localhost:8080/"
        },
        "id": "IXmvFs3ETIqv",
        "outputId": "64661166-7a23-4b15-ce63-e836260f7837"
      },
      "execution_count": 4,
      "outputs": [
        {
          "output_type": "stream",
          "name": "stdout",
          "text": [
            "['C', 'O', 'N', 'F', 'CH1', 'S', 'Cl', 'O-', 'NH1+', 'Br', 'NH3+', 'NH2+', 'N+', 'N-', 'S-', 'I', 'P', 'OH1+', 'NH1-', 'O+', 'S+', 'PH1', 'PH2', 'CH2-', 'P+', 'SH1+', 'CH1-', 'PH1+']\n",
            "['none', 'single', 'double', 'triple']\n"
          ]
        }
      ]
    },
    {
      "cell_type": "markdown",
      "source": [
        "### b.Convert to DGL\n",
        "Next, we transform the raw molecular data into a format suitable for use with the Deep Graph Library (DGL)."
      ],
      "metadata": {
        "id": "ujiPLDDe8s8L"
      }
    },
    {
      "cell_type": "code",
      "source": [
        "def dict_to_dgl_graph(data):\n",
        "    g = dgl.graph(([], []), num_nodes=data['num_atom'])\n",
        "    g.ndata['feat'] = data['atom_type'].long()\n",
        "    src, dst = data['bond_type'].nonzero(as_tuple=True)\n",
        "    g.add_edges(src, dst)\n",
        "    g.edata['feat'] = data['bond_type'][src, dst].long()\n",
        "    return g\n",
        "\n",
        "# Dictionary to hold the results\n",
        "processed_datasets = {}\n",
        "\n",
        "# Iterate over each dataset\n",
        "for set_name, dataset in ZINCDatasets.items():\n",
        "    processed_list = []  # List to hold the graph dictionaries for current set\n",
        "    for g in dataset:\n",
        "        # Create the graph dict and DGL graph\n",
        "        graph = dict_to_dgl_graph(g)\n",
        "        # Append the graph and its associated label as a tuple\n",
        "        processed_list.append((graph, g.get('logP_SA_cycle_normalized').item()))\n",
        "    # Add the processed list to the results dictionary\n",
        "    processed_datasets[set_name] = processed_list\n",
        "\n",
        "# Now we can access your processed datasets like so:\n",
        "ZINC12k_train = processed_datasets['train']\n",
        "ZINC12k_val = processed_datasets['val']\n",
        "ZINC12k_test = processed_datasets['test']"
      ],
      "metadata": {
        "id": "No8bIXli9RTh"
      },
      "execution_count": null,
      "outputs": []
    },
    {
      "cell_type": "markdown",
      "source": [
        "An illustration of a molecule graph sample:"
      ],
      "metadata": {
        "id": "6kig4rj2C6lt"
      }
    },
    {
      "cell_type": "code",
      "source": [
        "graph, label = ZINC12k_val[1]\n",
        "# # Convert this DGLGraph to a NetworkX graph\n",
        "nx_graph = graph.to_networkx(node_attrs=['feat'], edge_attrs=['feat'])\n",
        "undirected_graph = nx_graph.to_undirected()\n",
        "G = nx.Graph(undirected_graph)\n",
        "\n",
        "# Create a dictionary mapping node IDs to their labels (without index)\n",
        "node_labels_dict = {i: atom_list[label] for i, label in enumerate(graph.ndata['feat'].tolist())}\n",
        "\n",
        "# Create a dictionary mapping edge to their labels\n",
        "edge_labels_dict = {(i, j): bond_list[label] for i, j, label in zip(graph.edges()[0].tolist(), graph.edges()[1].tolist(), graph.edata['feat'].tolist())}\n",
        "\n",
        "# Set the node and edge attributes for the NetworkX graph\n",
        "nx.set_node_attributes(G, node_labels_dict, 'feat')\n",
        "nx.set_edge_attributes(G, edge_labels_dict, 'feat')\n",
        "\n",
        "# Draw the networkx graph with labels\n",
        "pos = nx.spring_layout(G)  # compute graph layout\n",
        "nx.draw(G, pos, labels=nx.get_node_attributes(G, 'feat'), with_labels=True, node_size=500, alpha=0.8, font_weight='bold')\n",
        "\n",
        "# Draw edge labels\n",
        "nx.draw_networkx_edge_labels(G, pos, edge_labels=edge_labels_dict)\n",
        "\n",
        "plt.show()"
      ],
      "metadata": {
        "colab": {
          "base_uri": "https://localhost:8080/",
          "height": 516
        },
        "id": "3WVUPzzHEzt2",
        "outputId": "d556bff8-8287-4f9e-ef55-79d30dda64c9"
      },
      "execution_count": null,
      "outputs": [
        {
          "output_type": "display_data",
          "data": {
            "text/plain": [
              "<Figure size 640x480 with 1 Axes>"
            ],
            "image/png": "[encoded data removed]"
          },
          "metadata": {}
        }
      ]
    },
    {
      "cell_type": "markdown",
      "source": [
        "### c.Convert DGL graph to sequence\n",
        "Next, We convert our graph data into a format that can be processed by our model. For each dataset in our collection (train, validation, and test sets), we perform several operations:\n",
        "\n",
        "Firstly, we transform the DGLGraph objects into undirected NetworkX graphs, since the molecules we're working with are essentially undirected graphs.\n",
        "\n",
        "Next, we create mappings for the node IDs to their labels and the edges to their labels. This is done to establish a clear link between the graph structure and the respective atom and bond types. We then set these as attributes for the nodes and edges in the NetworkX graph.\n",
        "\n",
        "The code then traverses the NetworkX graph using Depth-First Search (DFS), and for each edge visited, it retrieves the associated node and edge labels to construct a sequence that represents the graph structure.\n",
        "\n",
        "This sequence is designed in such a way that it starts from a node, follows an edge type, and then moves to another node, thereby giving an ordered representation of the graph. This is repeated until all edges are traversed, effectively converting the graph into a sequence of tokens.\n",
        "\n",
        "The resultant sequence is paired with the corresponding 'logP' value (the label) and added to a list. This process is done for each graph in the dataset.\n",
        "\n",
        "Finally, this list of graph sequences and labels is converted into a pandas DataFrame for each dataset. The processed DataFrames are stored in a dictionary, allowing us to easily access the prepared data for each set: training, validation, and testing.\n",
        "\n",
        "This process transforms our graph data into a sequential format that can be handled by sequence-based models, such as transformers"
      ],
      "metadata": {
        "id": "OFKpzPa9FXQj"
      }
    },
    {
      "cell_type": "code",
      "source": [
        "results_dict = {}  # dictionary to store the results for each dataset\n",
        "datasets = {\"train\": ZINC12k_train, \"val\": ZINC12k_val, \"test\": ZINC12k_test}\n",
        "\n",
        "for set_name, dataset in datasets.items():\n",
        "    results = []  # list to store the graph sequences with the labels for current set\n",
        "    for graph, label in dataset:\n",
        "        # Convert this DGLGraph to an undirected NetworkX graph\n",
        "        nx_graph = graph.to_networkx(node_attrs=['feat'], edge_attrs=['feat'])\n",
        "        undirected_graph = nx_graph.to_undirected()\n",
        "        G = nx.Graph(undirected_graph)\n",
        "\n",
        "        # Create a dictionary mapping node IDs to their labels\n",
        "        node_labels_dict = {i: f'{i}: {atom_list[label]}' for i, label in enumerate(graph.ndata['feat'].tolist())}\n",
        "\n",
        "        # Create a dictionary mapping edge to their labels\n",
        "        edge_labels_dict = {(i, j): bond_list[label] for i, j, label in zip(graph.edges()[0].tolist(), graph.edges()[1].tolist(), graph.edata['feat'].tolist())}\n",
        "\n",
        "        # Set the node and edge attributes for the NetworkX graph\n",
        "        nx.set_node_attributes(G, node_labels_dict, 'feat')\n",
        "        nx.set_edge_attributes(G, edge_labels_dict, 'feat')\n",
        "\n",
        "        # Get edges with data as a list using DFS\n",
        "        dfs_edges = list(nx.dfs_edges(G))\n",
        "\n",
        "        graph_tokens_list = []\n",
        "        # Now iterate through the sorted edges\n",
        "        for idx, (u, v) in enumerate(dfs_edges):\n",
        "            node0 = nx.get_node_attributes(G, 'feat')[u].split(\": \")[1]\n",
        "            node1 = nx.get_node_attributes(G, 'feat')[v].split(\": \")[1]\n",
        "            edge_type = nx.get_edge_attributes(G, 'feat')[(u,v)]\n",
        "\n",
        "            if idx == len(dfs_edges) - 1: # if this is the last iteration\n",
        "                graph_token = f\" {node0} {edge_type} {node1}\"\n",
        "            else:\n",
        "                graph_token = f\" {node0} {edge_type}\"\n",
        "\n",
        "            graph_tokens_list.append(graph_token)\n",
        "\n",
        "        # Combine all graph tokens into a single string for the graph\n",
        "        graph_sequence = \"\".join(graph_tokens_list)\n",
        "        # print(graph_sequence)\n",
        "\n",
        "        result = {\n",
        "            'graph_sequence': graph_sequence,\n",
        "            'logP': label,  # Get the scalar value from the tensor\n",
        "        }\n",
        "        results.append(result)\n",
        "    # Convert the results to a pandas DataFrame\n",
        "    results_dict[set_name] = pd.DataFrame(results)\n",
        "\n",
        "# Now we can access your processed DataFrames like so:\n",
        "ZINC12kTrainDF = results_dict['train']\n",
        "ZINC12kValDF = results_dict['val']\n",
        "ZINC12kTestDF = results_dict['test']\n"
      ],
      "metadata": {
        "id": "uP-JGelXBaSk"
      },
      "execution_count": null,
      "outputs": []
    },
    {
      "cell_type": "code",
      "source": [
        "ZINC12kTrainDF.head()"
      ],
      "metadata": {
        "colab": {
          "base_uri": "https://localhost:8080/",
          "height": 204
        },
        "id": "wFK6wp7SB0Sa",
        "outputId": "41d95431-0c43-4eb6-b4d3-49643b5cb3ba"
      },
      "execution_count": null,
      "outputs": [
        {
          "output_type": "execute_result",
          "data": {
            "text/plain": [
              "                                      graph_sequence      logP\n",
              "0   C single O single C double C single C double ...  0.835036\n",
              "1   C single C single C single NH1+ single C sing... -2.193549\n",
              "2   C single N single C single C double C single ...  1.842230\n",
              "3   C single C double C single C single N single ... -0.711533\n",
              "4   C single C single C single C single C single ...  0.246347"
            ],
            "text/html": [
              "\n",
              "\n",
              "  <div id=\"df-5321027e-8cf4-480b-86a2-e01c8d124e4b\">\n",
              "    <div class=\"colab-df-container\">\n",
              "      <div>\n",
              "<style scoped>\n",
              "    .dataframe tbody tr th:only-of-type {\n",
              "        vertical-align: middle;\n",
              "    }\n",
              "\n",
              "    .dataframe tbody tr th {\n",
              "        vertical-align: top;\n",
              "    }\n",
              "\n",
              "    .dataframe thead th {\n",
              "        text-align: right;\n",
              "    }\n",
              "</style>\n",
              "<table border=\"1\" class=\"dataframe\">\n",
              "  <thead>\n",
              "    <tr style=\"text-align: right;\">\n",
              "      <th></th>\n",
              "      <th>graph_sequence</th>\n",
              "      <th>logP</th>\n",
              "    </tr>\n",
              "  </thead>\n",
              "  <tbody>\n",
              "    <tr>\n",
              "      <th>0</th>\n",
              "      <td>C single O single C double C single C double ...</td>\n",
              "      <td>0.835036</td>\n",
              "    </tr>\n",
              "    <tr>\n",
              "      <th>1</th>\n",
              "      <td>C single C single C single NH1+ single C sing...</td>\n",
              "      <td>-2.193549</td>\n",
              "    </tr>\n",
              "    <tr>\n",
              "      <th>2</th>\n",
              "      <td>C single N single C single C double C single ...</td>\n",
              "      <td>1.842230</td>\n",
              "    </tr>\n",
              "    <tr>\n",
              "      <th>3</th>\n",
              "      <td>C single C double C single C single N single ...</td>\n",
              "      <td>-0.711533</td>\n",
              "    </tr>\n",
              "    <tr>\n",
              "      <th>4</th>\n",
              "      <td>C single C single C single C single C single ...</td>\n",
              "      <td>0.246347</td>\n",
              "    </tr>\n",
              "  </tbody>\n",
              "</table>\n",
              "</div>\n",
              "      <button class=\"colab-df-convert\" onclick=\"convertToInteractive('df-5321027e-8cf4-480b-86a2-e01c8d124e4b')\"\n",
              "              title=\"Convert this dataframe to an interactive table.\"\n",
              "              style=\"display:none;\">\n",
              "\n",
              "  <svg xmlns=\"http://www.w3.org/2000/svg\" height=\"24px\"viewBox=\"0 0 24 24\"\n",
              "       width=\"24px\">\n",
              "    <path d=\"M0 0h24v24H0V0z\" fill=\"none\"/>\n",
              "    <path d=\"M18.56 5.44l.94 2.06.94-2.06 2.06-.94-2.06-.94-.94-2.06-.94 2.06-2.06.94zm-11 1L8.5 8.5l.94-2.06 2.06-.94-2.06-.94L8.5 2.5l-.94 2.06-2.06.94zm10 10l.94 2.06.94-2.06 2.06-.94-2.06-.94-.94-2.06-.94 2.06-2.06.94z\"/><path d=\"M17.41 7.96l-1.37-1.37c-.4-.4-.92-.59-1.43-.59-.52 0-1.04.2-1.43.59L10.3 9.45l-7.72 7.72c-.78.78-.78 2.05 0 2.83L4 21.41c.39.39.9.59 1.41.59.51 0 1.02-.2 1.41-.59l7.78-7.78 2.81-2.81c.8-.78.8-2.07 0-2.86zM5.41 20L4 18.59l7.72-7.72 1.47 1.35L5.41 20z\"/>\n",
              "  </svg>\n",
              "      </button>\n",
              "\n",
              "\n",
              "\n",
              "    <div id=\"df-6ff5a031-4e85-4873-a181-580234984846\">\n",
              "      <button class=\"colab-df-quickchart\" onclick=\"quickchart('df-6ff5a031-4e85-4873-a181-580234984846')\"\n",
              "              title=\"Suggest charts.\"\n",
              "              style=\"display:none;\">\n",
              "\n",
              "<svg xmlns=\"http://www.w3.org/2000/svg\" height=\"24px\"viewBox=\"0 0 24 24\"\n",
              "     width=\"24px\">\n",
              "    <g>\n",
              "        <path d=\"M19 3H5c-1.1 0-2 .9-2 2v14c0 1.1.9 2 2 2h14c1.1 0 2-.9 2-2V5c0-1.1-.9-2-2-2zM9 17H7v-7h2v7zm4 0h-2V7h2v10zm4 0h-2v-4h2v4z\"/>\n",
              "    </g>\n",
              "</svg>\n",
              "      </button>\n",
              "    </div>\n",
              "\n",
              "<style>\n",
              "  .colab-df-quickchart {\n",
              "    background-color: #E8F0FE;\n",
              "    border: none;\n",
              "    border-radius: 50%;\n",
              "    cursor: pointer;\n",
              "    display: none;\n",
              "    fill: #1967D2;\n",
              "    height: 32px;\n",
              "    padding: 0 0 0 0;\n",
              "    width: 32px;\n",
              "  }\n",
              "\n",
              "  .colab-df-quickchart:hover {\n",
              "    background-color: #E2EBFA;\n",
              "    box-shadow: 0px 1px 2px rgba(60, 64, 67, 0.3), 0px 1px 3px 1px rgba(60, 64, 67, 0.15);\n",
              "    fill: #174EA6;\n",
              "  }\n",
              "\n",
              "  [theme=dark] .colab-df-quickchart {\n",
              "    background-color: #3B4455;\n",
              "    fill: #D2E3FC;\n",
              "  }\n",
              "\n",
              "  [theme=dark] .colab-df-quickchart:hover {\n",
              "    background-color: #434B5C;\n",
              "    box-shadow: 0px 1px 3px 1px rgba(0, 0, 0, 0.15);\n",
              "    filter: drop-shadow(0px 1px 2px rgba(0, 0, 0, 0.3));\n",
              "    fill: #FFFFFF;\n",
              "  }\n",
              "</style>\n",
              "\n",
              "    <script>\n",
              "      async function quickchart(key) {\n",
              "        const containerElement = document.querySelector('#' + key);\n",
              "        const charts = await google.colab.kernel.invokeFunction(\n",
              "            'suggestCharts', [key], {});\n",
              "      }\n",
              "    </script>\n",
              "\n",
              "      <script>\n",
              "\n",
              "function displayQuickchartButton(domScope) {\n",
              "  let quickchartButtonEl =\n",
              "    domScope.querySelector('#df-6ff5a031-4e85-4873-a181-580234984846 button.colab-df-quickchart');\n",
              "  quickchartButtonEl.style.display =\n",
              "    google.colab.kernel.accessAllowed ? 'block' : 'none';\n",
              "}\n",
              "\n",
              "        displayQuickchartButton(document);\n",
              "      </script>\n",
              "      <style>\n",
              "    .colab-df-container {\n",
              "      display:flex;\n",
              "      flex-wrap:wrap;\n",
              "      gap: 12px;\n",
              "    }\n",
              "\n",
              "    .colab-df-convert {\n",
              "      background-color: #E8F0FE;\n",
              "      border: none;\n",
              "      border-radius: 50%;\n",
              "      cursor: pointer;\n",
              "      display: none;\n",
              "      fill: #1967D2;\n",
              "      height: 32px;\n",
              "      padding: 0 0 0 0;\n",
              "      width: 32px;\n",
              "    }\n",
              "\n",
              "    .colab-df-convert:hover {\n",
              "      background-color: #E2EBFA;\n",
              "      box-shadow: 0px 1px 2px rgba(60, 64, 67, 0.3), 0px 1px 3px 1px rgba(60, 64, 67, 0.15);\n",
              "      fill: #174EA6;\n",
              "    }\n",
              "\n",
              "    [theme=dark] .colab-df-convert {\n",
              "      background-color: #3B4455;\n",
              "      fill: #D2E3FC;\n",
              "    }\n",
              "\n",
              "    [theme=dark] .colab-df-convert:hover {\n",
              "      background-color: #434B5C;\n",
              "      box-shadow: 0px 1px 3px 1px rgba(0, 0, 0, 0.15);\n",
              "      filter: drop-shadow(0px 1px 2px rgba(0, 0, 0, 0.3));\n",
              "      fill: #FFFFFF;\n",
              "    }\n",
              "  </style>\n",
              "\n",
              "      <script>\n",
              "        const buttonEl =\n",
              "          document.querySelector('#df-5321027e-8cf4-480b-86a2-e01c8d124e4b button.colab-df-convert');\n",
              "        buttonEl.style.display =\n",
              "          google.colab.kernel.accessAllowed ? 'block' : 'none';\n",
              "\n",
              "        async function convertToInteractive(key) {\n",
              "          const element = document.querySelector('#df-5321027e-8cf4-480b-86a2-e01c8d124e4b');\n",
              "          const dataTable =\n",
              "            await google.colab.kernel.invokeFunction('convertToInteractive',\n",
              "                                                     [key], {});\n",
              "          if (!dataTable) return;\n",
              "\n",
              "          const docLinkHtml = 'Like what you see? Visit the ' +\n",
              "            '<a target=\"_blank\" href=https://colab.research.google.com/notebooks/data_table.ipynb>data table notebook</a>'\n",
              "            + ' to learn more about interactive tables.';\n",
              "          element.innerHTML = '';\n",
              "          dataTable['output_type'] = 'display_data';\n",
              "          await google.colab.output.renderOutput(dataTable, element);\n",
              "          const docLink = document.createElement('div');\n",
              "          docLink.innerHTML = docLinkHtml;\n",
              "          element.appendChild(docLink);\n",
              "        }\n",
              "      </script>\n",
              "    </div>\n",
              "  </div>\n"
            ]
          },
          "metadata": {},
          "execution_count": 7
        }
      ]
    },
    {
      "cell_type": "markdown",
      "source": [
        "# 3. Dataset Statistics"
      ],
      "metadata": {
        "id": "rPAjFdtmIFOQ"
      }
    },
    {
      "cell_type": "markdown",
      "source": [
        "The histogram provides us with crucial insights into the token lengths of our graph sequences. It helps us understand the length distribution of the sequences we're dealing with, which can be instrumental in setting the max_len parameter in our transformer configuration."
      ],
      "metadata": {
        "id": "angwtZSWJG7r"
      }
    },
    {
      "cell_type": "code",
      "source": [
        "# from transformers import AutoTokenizer\n",
        "tokenizer = LongformerTokenizer.from_pretrained('allenai/longformer-base-4096')\n",
        "\n",
        "# Compute the number of tokens in each text\n",
        "num_tokens = [len(tokenizer.encode(text)) for text in ZINC12kTrainDF['graph_sequence']]\n",
        "\n",
        "# Create a histogram of the number of tokens\n",
        "plt.figure(figsize=(10, 6))\n",
        "plt.hist(num_tokens, bins=50)\n",
        "plt.xlabel('Number of Tokens')\n",
        "plt.ylabel('Number of Samples')\n",
        "plt.title('Distribution of the Number of Tokens in Graph Sequence samples')\n",
        "plt.show()"
      ],
      "metadata": {
        "colab": {
          "base_uri": "https://localhost:8080/",
          "height": 564
        },
        "id": "0HUM4xuqB0VI",
        "outputId": "29feb06a-19c7-4b32-df0c-f1c05df47cd6"
      },
      "execution_count": null,
      "outputs": [
        {
          "output_type": "display_data",
          "data": {
            "text/plain": [
              "<Figure size 1000x600 with 1 Axes>"
            ],
            "image/png": "[encoded data removed]"
          },
          "metadata": {}
        }
      ]
    },
    {
      "cell_type": "code",
      "source": [
        "plt.hist(ZINC12kTrainDF['logP'], bins=50, edgecolor='black')\n",
        "\n",
        "plt.title('Distribution of the logP(labels) Values')\n",
        "plt.xlabel('logP Value')\n",
        "plt.ylabel('Frequency')\n",
        "\n",
        "plt.show()"
      ],
      "metadata": {
        "colab": {
          "base_uri": "https://localhost:8080/",
          "height": 472
        },
        "id": "wvuc-VvgB0Xt",
        "outputId": "a98552de-2303-427b-81c1-daf0c3dc709a"
      },
      "execution_count": null,
      "outputs": [
        {
          "output_type": "display_data",
          "data": {
            "text/plain": [
              "<Figure size 640x480 with 1 Axes>"
            ],
            "image/png": "[encoded data removed]"
          },
          "metadata": {}
        }
      ]
    },
    {
      "cell_type": "markdown",
      "source": [
        "In this segment below, we're generating baseline models for a sanity check. By comparing the results of our main model to the baseline, we can ensure that our main model is actually learning from the data and not merely performing at random or overfitting."
      ],
      "metadata": {
        "id": "Qt1dvTElJa3-"
      }
    },
    {
      "cell_type": "code",
      "source": [
        "mean_label = ZINC12kTrainDF['logP'].mean()\n",
        "median_label = ZINC12kTrainDF['logP'].median()\n",
        "\n",
        "# Create arrays with the size of the validation/test sets filled with the mean/median\n",
        "mean_preds = np.full_like(ZINC12kValDF['logP'], fill_value=mean_label)\n",
        "median_preds = np.full_like(ZINC12kValDF['logP'], fill_value=median_label)\n",
        "\n",
        "# Compute MAE for the mean and median baselines\n",
        "mean_mae = mean_absolute_error(ZINC12kValDF['logP'], mean_preds)\n",
        "median_mae = mean_absolute_error(ZINC12kValDF['logP'], median_preds)\n",
        "\n",
        "print(f\"Mean baseline MAE: {mean_mae}\")\n",
        "print(f\"Median baseline MAE: {median_mae}\")"
      ],
      "metadata": {
        "colab": {
          "base_uri": "https://localhost:8080/"
        },
        "id": "kcxvEq1KHzP1",
        "outputId": "1a4a1282-bc83-4931-81ab-9551c3fcd525"
      },
      "execution_count": null,
      "outputs": [
        {
          "output_type": "stream",
          "name": "stdout",
          "text": [
            "Mean baseline MAE: 1.4785104238663516\n",
            "Median baseline MAE: 1.4380967400622904\n"
          ]
        }
      ]
    },
    {
      "cell_type": "markdown",
      "source": [
        "# 3. Model Training and Evaluation\n",
        "This script below defines the main training, validation, and testing pipeline for a text classification task using the Longformer model from Hugging Face's Transformers library.\n",
        "\n",
        "It begins by defining a custom PyTorch Dataset that accepts the text data, labels, a tokenizer, and a maximum sequence length (80) as inputs. The text is tokenized and encoded into input IDs and attention masks using the Longformer tokenizer.\n",
        "\n",
        "The model is moved to the designated device, and the AdamW optimizer is set up with a learning rate of 1e-6. A learning rate scheduler is also created to reduce the learning rate when the validation loss stops improving, helping to avoid overfitting.\n",
        "\n",
        "The training loop involves the forward pass, the computation of the loss, and the backward pass for gradient computation. After a certain number of steps (4, as defined by the gradient accumulation parameter), the model's parameters are updated.\n",
        "\n",
        "Then, the model is set to evaluation mode and run through the validation set, computing the validation loss and the Mean Absolute Error (MAE) on the predicted 'logP' labels. The learning rate scheduler steps according to the validation loss. If the learning rate falls below a certain threshold, or if the training time exceeds 12 hours, the training loop breaks.\n",
        "\n",
        "Once the training process is complete, the final model is evaluated on the test set, and the Mean Absolute Error (MAE) on the test data is reported.\n",
        "\n",
        "Throughout the process, memory is periodically cleared to maintain efficiency."
      ],
      "metadata": {
        "id": "PwqwpUDVL7mq"
      }
    },
    {
      "cell_type": "code",
      "source": [
        "import time\n",
        "class TextDataset(Dataset):\n",
        "    def __init__(self, texts, labels, tokenizer, max_len):\n",
        "        self.texts = texts\n",
        "        self.labels = labels\n",
        "        self.tokenizer = tokenizer\n",
        "        self.max_len = max_len\n",
        "\n",
        "    def __len__(self):\n",
        "        return len(self.texts)\n",
        "\n",
        "    def __getitem__(self, idx):\n",
        "        text = str(self.texts[idx])\n",
        "        label = self.labels[idx]\n",
        "        encoding = self.tokenizer.encode_plus(\n",
        "            text,\n",
        "            add_special_tokens=True,\n",
        "            max_length=self.max_len,\n",
        "            return_token_type_ids=False,\n",
        "            padding='max_length',\n",
        "            return_attention_mask=True,\n",
        "            return_tensors='pt',\n",
        "            truncation=True\n",
        "        )\n",
        "\n",
        "        return {\n",
        "            'text': text,\n",
        "            'input_ids': encoding['input_ids'].flatten(),\n",
        "            'attention_mask': encoding['attention_mask'].flatten(),\n",
        "            'label': torch.tensor(label, dtype=torch.float)\n",
        "        }\n",
        "\n",
        "# Load tokenizer and model\n",
        "tokenizer = LongformerTokenizer.from_pretrained('allenai/longformer-base-4096')\n",
        "model = LongformerForSequenceClassification.from_pretrained('allenai/longformer-base-4096', num_labels=1)\n",
        "\n",
        "# Training parameters\n",
        "batch_size = 8\n",
        "grad_acc_steps = 4  # Update the model every grad_acc_steps batches\n",
        "device = torch.device('cuda') if torch.cuda.is_available() else torch.device('cpu')\n",
        "\n",
        "# Create data loaders\n",
        "train_data = TextDataset(ZINC12kTrainDF['graph_sequence'], ZINC12kTrainDF['logP'], tokenizer, max_len=80)\n",
        "val_data = TextDataset(ZINC12kValDF['graph_sequence'], ZINC12kValDF['logP'], tokenizer, max_len=80)\n",
        "test_data = TextDataset(ZINC12kTestDF['graph_sequence'], ZINC12kTestDF['logP'], tokenizer, max_len=80)\n",
        "\n",
        "train_loader = DataLoader(train_data, batch_size=batch_size)\n",
        "val_loader = DataLoader(val_data, batch_size=batch_size)\n",
        "test_loader = DataLoader(test_data, batch_size=batch_size)\n",
        "\n",
        "# Move model to device and specify optimizer\n",
        "model = model.to(device)\n",
        "optim = AdamW(model.parameters(), lr=1e-6)\n",
        "\n",
        "# Create learning rate scheduler\n",
        "scheduler = torch.optim.lr_scheduler.ReduceLROnPlateau(optim, 'min', patience=3, factor=0.5, min_lr=1e-8)\n",
        "\n",
        "# Variables to store per-epoch metrics\n",
        "train_loss_values = []\n",
        "val_loss_values = [] # store validation loss for each epoch\n",
        "val_mae_values = []\n",
        "\n",
        "start_time = time.time() # start time of training\n",
        "\n",
        "# Training loop\n",
        "while True:\n",
        "    model.train()\n",
        "    total_loss = 0.0\n",
        "    for i, batch in enumerate(tqdm(train_loader)):\n",
        "        optim.zero_grad()\n",
        "        input_ids = batch['input_ids'].to(device)\n",
        "        attention_mask = batch['attention_mask'].to(device)\n",
        "        labels = batch['label'].to(device)\n",
        "        outputs = model(input_ids, attention_mask=attention_mask, labels=labels)\n",
        "        loss = outputs.loss\n",
        "        total_loss += loss.item()  # Update total loss\n",
        "        loss.backward()\n",
        "\n",
        "        # Gradient accumulation\n",
        "        if (i + 1) % grad_acc_steps == 0 or i == len(train_loader) - 1:\n",
        "            optim.step()\n",
        "            optim.zero_grad()\n",
        "            gc.collect()  # Run garbage collector to free up memory\n",
        "            torch.cuda.empty_cache()  # Free up memory\n",
        "\n",
        "    # After the end of each epoch, compute the average training loss\n",
        "    avg_train_loss = total_loss / len(train_loader)\n",
        "    train_loss_values.append(avg_train_loss)\n",
        "\n",
        "    model.eval()\n",
        "    preds, true, total_val_loss = [], [], 0.0\n",
        "    with torch.no_grad():\n",
        "        for batch in tqdm(val_loader):\n",
        "            input_ids = batch['input_ids'].to(device)\n",
        "            attention_mask = batch['attention_mask'].to(device)\n",
        "            labels = batch['label'].to(device)\n",
        "            outputs = model(input_ids, attention_mask=attention_mask, labels=labels)\n",
        "            total_val_loss += outputs.loss.item()  # Update total validation loss\n",
        "            preds.extend(outputs.logits.squeeze().detach().cpu().numpy())\n",
        "            true.extend(labels.cpu().numpy())\n",
        "            gc.collect()  # Run garbage collector to free up memory\n",
        "            torch.cuda.empty_cache()  # Free up memory\n",
        "\n",
        "    avg_val_loss = total_val_loss / len(val_loader)\n",
        "    val_loss_values.append(avg_val_loss)\n",
        "    val_mae = mean_absolute_error(true, preds)\n",
        "    val_mae_values.append(val_mae)\n",
        "    print(f'Epoch: {len(train_loss_values)}, Train Loss: {avg_train_loss}, Val Loss: {avg_val_loss}, MAE: {val_mae}')\n",
        "\n",
        "    # After each epoch, step the learning rate down\n",
        "    scheduler.step(avg_val_loss)\n",
        "\n",
        "    # Stop training if the learning rate has reached 1e-8 or if training has been going on for 12 hours\n",
        "    if optim.param_groups[0]['lr'] <= 1e-8 or (time.time() - start_time) / 3600 >= 12:\n",
        "        break\n",
        "\n",
        "# Test\n",
        "model.eval()\n",
        "preds, true = [], []\n",
        "with torch.no_grad():\n",
        "    for batch in test_loader:\n",
        "        input_ids = batch['input_ids'].to(device)\n",
        "        attention_mask = batch['attention_mask'].to(device)\n",
        "        labels = batch['label'].to(device)\n",
        "        outputs = model(input_ids, attention_mask=attention_mask)\n",
        "        preds.extend(outputs.logits.squeeze().detach().cpu().numpy())\n",
        "        true.extend(labels.cpu().numpy())\n",
        "print(f'Test MAE: {mean_absolute_error(true, preds)}')\n"
      ],
      "metadata": {
        "id": "06szPWA-KRer"
      },
      "execution_count": null,
      "outputs": []
    },
    {
      "cell_type": "code",
      "source": [
        "# plot the training loss values\n",
        "plt.figure(figsize=(10, 5))\n",
        "plt.plot(train_loss_values)\n",
        "plt.title('Loss Curve')\n",
        "plt.xlabel('Epochs')\n",
        "plt.ylabel('Loss')\n",
        "plt.show()"
      ],
      "metadata": {
        "id": "ndBtXtwvKRjF"
      },
      "execution_count": null,
      "outputs": []
    },
    {
      "cell_type": "code",
      "source": [
        "# plot the validation MAE values\n",
        "plt.figure(figsize=(10, 5))\n",
        "plt.plot(val_mae_values)\n",
        "plt.title('Validation MAE as a function of epochs')\n",
        "plt.xlabel('Epochs')\n",
        "plt.ylabel('Validation MAE')\n",
        "plt.show()"
      ],
      "metadata": {
        "id": "zarbY6doKRlu"
      },
      "execution_count": null,
      "outputs": []
    }
  ],
  "metadata": {
    "accelerator": "GPU",
    "colab": {
      "provenance": [],
      "machine_shape": "hm",
      "gpuType": "T4",
      "toc_visible": true
    },
    "kernelspec": {
      "display_name": "Python 3",
      "name": "python3"
    },
    "language_info": {
      "name": "python"
    }
  },
  "nbformat": 4,
  "nbformat_minor": 0
}