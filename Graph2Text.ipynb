{
  "cells": [
    {
      "cell_type": "markdown",
      "metadata": {
        "id": "egA1LrwGF_OH"
      },
      "source": [
        "**Install and Load pckgs**"
      ]
    },
    {
      "cell_type": "code",
      "execution_count": null,
      "metadata": {
        "id": "wHtnpJ2pGONA"
      },
      "outputs": [],
      "source": [
        "# If you have installed dgl-cuXX package, please uninstall it first.\n",
        "!pip install  dgl -f https://data.dgl.ai/wheels/cu118/repo.html\n",
        "!pip install  dglgo -f https://data.dgl.ai/wheels-test/repo.html\n",
        "!pip install transformers"
      ]
    },
    {
      "cell_type": "code",
      "execution_count": null,
      "metadata": {
        "id": "WJ6HnzAoFoe_"
      },
      "outputs": [],
      "source": [
        "import pandas as pd\n",
        "import dgl\n",
        "import networkx as nx\n",
        "import matplotlib.pyplot as plt\n",
        "import seaborn as sns\n",
        "import numpy as np\n",
        "from matplotlib.pyplot import figure\n",
        "import matplotlib.patches as mpatches\n",
        "from matplotlib.patches import Patch\n",
        "import matplotlib.lines as mlines\n",
        "from networkx.algorithms import centrality, cluster\n",
        "import copy\n",
        "import torch\n",
        "import gc\n",
        "from tqdm.auto import tqdm\n",
        "from transformers import LongformerTokenizer, LongformerForSequenceClassification, AdamW\n",
        "from transformers import AutoTokenizer, BertForSequenceClassification\n",
        "from torch.utils.data import Dataset, DataLoader\n",
        "from sklearn.metrics import mean_absolute_error\n",
        "from scipy.linalg import eigh\n",
        "from networkx.algorithms.shortest_paths.generic import average_shortest_path_length\n",
        "from collections import Counter\n",
        "import matplotlib.colors as mcolors\n",
        "import matplotlib.cm as cm\n",
        "from sklearn.preprocessing import MinMaxScaler\n",
        "from operator import itemgetter\n",
        "from itertools import count\n",
        "from scipy import stats\n",
        "%matplotlib inline"
      ]
    },
    {
      "cell_type": "code",
      "execution_count": 16,
      "metadata": {
        "colab": {
          "base_uri": "https://localhost:8080/"
        },
        "id": "h2eu9riGrjrD",
        "outputId": "886cc93a-adfd-4f33-906a-07b562bb4bb2"
      },
      "outputs": [
        {
          "output_type": "stream",
          "name": "stdout",
          "text": [
            "Mounted at /content/gdrive\n"
          ]
        }
      ],
      "source": [
        "from google.colab import drive\n",
        "drive.mount('/content/gdrive')"
      ]
    },
    {
      "cell_type": "markdown",
      "source": [
        "**Load the Data:**\n",
        "\n",
        "\n",
        "*   bond_dict - list of the bonds type names (edges).\n",
        "*   atom_dict - list of the atoms type names (nodes).\n",
        "*   zinc12k - list of 12k ZINC molecule as DGL graphs."
      ],
      "metadata": {
        "id": "BUFXeG0d4_hu"
      }
    },
    {
      "cell_type": "code",
      "source": [
        "bond_dict = torch.load(\"bond_dict.pt\")\n",
        "atom_dict = torch.load(\"atom_dict.pt\")\n",
        "zinc12k = torch.load(\"zinc12k.pt\")"
      ],
      "metadata": {
        "id": "kXoplvbQWuZS"
      },
      "execution_count": 3,
      "outputs": []
    },
    {
      "cell_type": "markdown",
      "source": [
        "An illustration of a molecule graph sample:"
      ],
      "metadata": {
        "id": "TKbaQzXKI041"
      }
    },
    {
      "cell_type": "code",
      "source": [
        "graph, label = zinc12k[0]\n",
        "print(graph.ndata['feat'])\n",
        "print(graph.edata['feat'])\n",
        "print(graph.edges())"
      ],
      "metadata": {
        "colab": {
          "base_uri": "https://localhost:8080/"
        },
        "id": "CpnrD02cWudX",
        "outputId": "0247b7d1-c161-4d60-c4cf-112edd981ea7"
      },
      "execution_count": 8,
      "outputs": [
        {
          "output_type": "stream",
          "name": "stdout",
          "text": [
            "tensor([ 1, 17,  1,  1,  1, 22,  1,  5, 26,  1,  1,  3,  1,  1,  1,  1, 13,  1,\n",
            "        13,  1,  1,  5,  1,  1])\n",
            "tensor([1, 1, 1, 1, 1, 1, 1, 1, 1, 1, 1, 1, 1, 1, 2, 1, 2, 1, 1, 1, 1, 1, 1, 1,\n",
            "        1, 1, 1, 1, 4, 4, 4, 4, 4, 4, 4, 1, 4, 1, 4, 1, 4, 1, 4, 4, 1, 1, 2, 2,\n",
            "        1, 1, 1, 1])\n",
            "(tensor([ 0,  1,  1,  1,  2,  2,  3,  3,  4,  4,  4,  5,  5,  6,  6,  6,  7,  8,\n",
            "         8,  8,  9,  9, 10, 10, 11, 11, 11, 12, 12, 12, 13, 13, 14, 14, 15, 15,\n",
            "        15, 16, 17, 17, 17, 18, 19, 19, 20, 20, 20, 21, 22, 22, 23, 23]), tensor([ 1,  0,  2, 23,  1,  3,  2,  4,  3,  5, 22,  4,  6,  5,  7,  8,  6,  6,\n",
            "         9, 20,  8, 10,  9, 11, 10, 12, 20, 11, 13, 19, 12, 14, 13, 15, 14, 16,\n",
            "        17, 15, 15, 18, 19, 17, 12, 17,  8, 11, 21, 20,  4, 23,  1, 22]))\n"
          ]
        }
      ]
    },
    {
      "cell_type": "code",
      "source": [
        "# Convert this DGLGraph to an undirected NetworkX graph\n",
        "nx_graph = graph.to_networkx(node_attrs=['feat'], edge_attrs=['feat'])\n",
        "undirected_graph = nx_graph.to_undirected()\n",
        "G = nx.Graph(undirected_graph)\n",
        "\n",
        "# Create a dictionary mapping node IDs to their labels(atom types)\n",
        "labels_dict = {i: atom_dict[label] for i, label in enumerate(graph.ndata['feat'].tolist())}\n",
        "\n",
        "# Set the node attributes for the NetworkX graph\n",
        "nx.set_node_attributes(G, labels_dict, 'feat')\n",
        "\n",
        "# Draw the networkx graph with labels\n",
        "pos = nx.spring_layout(G)  # compute graph layout\n",
        "nx.draw(G, pos, labels=nx.get_node_attributes(G, 'feat'), with_labels=True, node_size=600, alpha=0.8, font_weight='bold')\n",
        "plt.show()"
      ],
      "metadata": {
        "colab": {
          "base_uri": "https://localhost:8080/",
          "height": 516
        },
        "id": "L3AcBB6CJKi2",
        "outputId": "8f053ba9-2ff0-4dce-efc1-dba2d02c26f9"
      },
      "execution_count": 6,
      "outputs": [
        {
          "output_type": "display_data",
          "data": {
            "text/plain": [
              "<Figure size 640x480 with 1 Axes>"
            ],
            "image/png": "[encoded data removed]"
          },
          "metadata": {}
        }
      ]
    },
    {
      "cell_type": "markdown",
      "source": [
        "We begin by transforming each DGL (Deep Graph Library) graph into an undirected NetworkX graph. Then, we convert each graph into a sequence representation by traversing the graph, from the first node to the last. During this traversal, we use the labels of nodes and edges to narratively describe the path taken. This process effectively translates the graph structures into sequences that can be further analyzed or processed."
      ],
      "metadata": {
        "id": "7010WGUcOL0z"
      }
    },
    {
      "cell_type": "code",
      "source": [
        "results = [] # list to store the graph sequences with the labels\n",
        "\n",
        "for graph, label in zinc12k:\n",
        "    # Convert this DGLGraph to an undirected NetworkX graph\n",
        "    nx_graph = graph.to_networkx(node_attrs=['feat'], edge_attrs=['feat'])\n",
        "    undirected_graph = nx_graph.to_undirected()\n",
        "    G = nx.Graph(undirected_graph)\n",
        "\n",
        "    # Create a dictionary mapping node IDs to their labels\n",
        "    node_labels_dict = {i: f'{i}: {atom_dict[label]}' for i, label in enumerate(graph.ndata['feat'].tolist())}\n",
        "\n",
        "    # Create a dictionary mapping edge to their labels\n",
        "    edge_labels_dict = {(i, j): bond_dict[label-1] for i, j, label in zip(graph.edges()[0].tolist(), graph.edges()[1].tolist(), graph.edata['feat'].tolist())}\n",
        "\n",
        "    # Set the node and edge attributes for the NetworkX graph\n",
        "    nx.set_node_attributes(G, node_labels_dict, 'feat')\n",
        "    nx.set_edge_attributes(G, edge_labels_dict, 'feat')\n",
        "\n",
        "    # Get edges with data as a list\n",
        "    edge_list = list(G.edges(data=True))\n",
        "\n",
        "    # Sort the edges by 'id' attribute\n",
        "    edges_sorted = sorted(edge_list, key=lambda x: x[2]['id'])\n",
        "\n",
        "    graph_tokens_list = []\n",
        "    # Now iterate through the sorted edges\n",
        "    for idx, (u, v, data) in enumerate(edges_sorted):\n",
        "        node0 = nx.get_node_attributes(G, 'feat')[u].split(\": \")[1]\n",
        "        node1 = nx.get_node_attributes(G, 'feat')[v].split(\": \")[1]\n",
        "        edge_type = data['feat']\n",
        "\n",
        "        if idx == len(edges_sorted) - 1: # if this is the last iteration\n",
        "            graph_token = f\"[{node0}][{edge_type}][{node1}]\"\n",
        "        else:\n",
        "            graph_token = f\"[{node0}][{edge_type}]\"\n",
        "\n",
        "        graph_tokens_list.append(graph_token)\n",
        "\n",
        "\n",
        "    # Combine all graph tokens into a single string for the graph\n",
        "    graph_sequence = \"\".join(graph_tokens_list)\n",
        "\n",
        "    result = {\n",
        "        'graph_sequence': graph_sequence,\n",
        "        'logP': label.item(),  # Get the scalar value from the tensor\n",
        "    }\n",
        "    results.append(result)\n",
        "\n",
        "# Convert the results to a pandas DataFrame\n",
        "zinc_dataset = pd.DataFrame(results)"
      ],
      "metadata": {
        "id": "skS1ExLvk4lL"
      },
      "execution_count": 9,
      "outputs": []
    },
    {
      "cell_type": "code",
      "source": [
        "zinc_dataset.head()"
      ],
      "metadata": {
        "colab": {
          "base_uri": "https://localhost:8080/",
          "height": 204
        },
        "id": "1k0UnIItk-7P",
        "outputId": "088948e5-a751-40f4-8ee2-77579ce5c078"
      },
      "execution_count": 10,
      "outputs": [
        {
          "output_type": "execute_result",
          "data": {
            "text/plain": [
              "                                      graph_sequence     logP\n",
              "0  [C][SINGLE][[NH+]][SINGLE][C][SINGLE][C][SINGL...  1.13960\n",
              "1  [C][SINGLE][[C@@H]][SINGLE][[C@@H]][SINGLE][C]...  0.34360\n",
              "2  [C][SINGLE][C][AROMATIC][C][AROMATIC][C][AROMA...  4.85712\n",
              "3  [C][DOUBLE][C][SINGLE][C][SINGLE][C][AROMATIC]...  2.34040\n",
              "4  [C][SINGLE][[C@@H]][SINGLE][C][AROMATIC][N][AR...  4.10500"
            ],
            "text/html": [
              "\n",
              "\n",
              "  <div id=\"df-e0dfe0f9-4305-480e-9d67-7e77c72af4b8\">\n",
              "    <div class=\"colab-df-container\">\n",
              "      <div>\n",
              "<style scoped>\n",
              "    .dataframe tbody tr th:only-of-type {\n",
              "        vertical-align: middle;\n",
              "    }\n",
              "\n",
              "    .dataframe tbody tr th {\n",
              "        vertical-align: top;\n",
              "    }\n",
              "\n",
              "    .dataframe thead th {\n",
              "        text-align: right;\n",
              "    }\n",
              "</style>\n",
              "<table border=\"1\" class=\"dataframe\">\n",
              "  <thead>\n",
              "    <tr style=\"text-align: right;\">\n",
              "      <th></th>\n",
              "      <th>graph_sequence</th>\n",
              "      <th>logP</th>\n",
              "    </tr>\n",
              "  </thead>\n",
              "  <tbody>\n",
              "    <tr>\n",
              "      <th>0</th>\n",
              "      <td>[C][SINGLE][[NH+]][SINGLE][C][SINGLE][C][SINGL...</td>\n",
              "      <td>1.13960</td>\n",
              "    </tr>\n",
              "    <tr>\n",
              "      <th>1</th>\n",
              "      <td>[C][SINGLE][[C@@H]][SINGLE][[C@@H]][SINGLE][C]...</td>\n",
              "      <td>0.34360</td>\n",
              "    </tr>\n",
              "    <tr>\n",
              "      <th>2</th>\n",
              "      <td>[C][SINGLE][C][AROMATIC][C][AROMATIC][C][AROMA...</td>\n",
              "      <td>4.85712</td>\n",
              "    </tr>\n",
              "    <tr>\n",
              "      <th>3</th>\n",
              "      <td>[C][DOUBLE][C][SINGLE][C][SINGLE][C][AROMATIC]...</td>\n",
              "      <td>2.34040</td>\n",
              "    </tr>\n",
              "    <tr>\n",
              "      <th>4</th>\n",
              "      <td>[C][SINGLE][[C@@H]][SINGLE][C][AROMATIC][N][AR...</td>\n",
              "      <td>4.10500</td>\n",
              "    </tr>\n",
              "  </tbody>\n",
              "</table>\n",
              "</div>\n",
              "      <button class=\"colab-df-convert\" onclick=\"convertToInteractive('df-e0dfe0f9-4305-480e-9d67-7e77c72af4b8')\"\n",
              "              title=\"Convert this dataframe to an interactive table.\"\n",
              "              style=\"display:none;\">\n",
              "\n",
              "  <svg xmlns=\"http://www.w3.org/2000/svg\" height=\"24px\"viewBox=\"0 0 24 24\"\n",
              "       width=\"24px\">\n",
              "    <path d=\"M0 0h24v24H0V0z\" fill=\"none\"/>\n",
              "    <path d=\"M18.56 5.44l.94 2.06.94-2.06 2.06-.94-2.06-.94-.94-2.06-.94 2.06-2.06.94zm-11 1L8.5 8.5l.94-2.06 2.06-.94-2.06-.94L8.5 2.5l-.94 2.06-2.06.94zm10 10l.94 2.06.94-2.06 2.06-.94-2.06-.94-.94-2.06-.94 2.06-2.06.94z\"/><path d=\"M17.41 7.96l-1.37-1.37c-.4-.4-.92-.59-1.43-.59-.52 0-1.04.2-1.43.59L10.3 9.45l-7.72 7.72c-.78.78-.78 2.05 0 2.83L4 21.41c.39.39.9.59 1.41.59.51 0 1.02-.2 1.41-.59l7.78-7.78 2.81-2.81c.8-.78.8-2.07 0-2.86zM5.41 20L4 18.59l7.72-7.72 1.47 1.35L5.41 20z\"/>\n",
              "  </svg>\n",
              "      </button>\n",
              "\n",
              "\n",
              "\n",
              "    <div id=\"df-bcdc7eae-6e1b-4641-a1cf-0c64a9b9fff5\">\n",
              "      <button class=\"colab-df-quickchart\" onclick=\"quickchart('df-bcdc7eae-6e1b-4641-a1cf-0c64a9b9fff5')\"\n",
              "              title=\"Suggest charts.\"\n",
              "              style=\"display:none;\">\n",
              "\n",
              "<svg xmlns=\"http://www.w3.org/2000/svg\" height=\"24px\"viewBox=\"0 0 24 24\"\n",
              "     width=\"24px\">\n",
              "    <g>\n",
              "        <path d=\"M19 3H5c-1.1 0-2 .9-2 2v14c0 1.1.9 2 2 2h14c1.1 0 2-.9 2-2V5c0-1.1-.9-2-2-2zM9 17H7v-7h2v7zm4 0h-2V7h2v10zm4 0h-2v-4h2v4z\"/>\n",
              "    </g>\n",
              "</svg>\n",
              "      </button>\n",
              "    </div>\n",
              "\n",
              "<style>\n",
              "  .colab-df-quickchart {\n",
              "    background-color: #E8F0FE;\n",
              "    border: none;\n",
              "    border-radius: 50%;\n",
              "    cursor: pointer;\n",
              "    display: none;\n",
              "    fill: #1967D2;\n",
              "    height: 32px;\n",
              "    padding: 0 0 0 0;\n",
              "    width: 32px;\n",
              "  }\n",
              "\n",
              "  .colab-df-quickchart:hover {\n",
              "    background-color: #E2EBFA;\n",
              "    box-shadow: 0px 1px 2px rgba(60, 64, 67, 0.3), 0px 1px 3px 1px rgba(60, 64, 67, 0.15);\n",
              "    fill: #174EA6;\n",
              "  }\n",
              "\n",
              "  [theme=dark] .colab-df-quickchart {\n",
              "    background-color: #3B4455;\n",
              "    fill: #D2E3FC;\n",
              "  }\n",
              "\n",
              "  [theme=dark] .colab-df-quickchart:hover {\n",
              "    background-color: #434B5C;\n",
              "    box-shadow: 0px 1px 3px 1px rgba(0, 0, 0, 0.15);\n",
              "    filter: drop-shadow(0px 1px 2px rgba(0, 0, 0, 0.3));\n",
              "    fill: #FFFFFF;\n",
              "  }\n",
              "</style>\n",
              "\n",
              "    <script>\n",
              "      async function quickchart(key) {\n",
              "        const containerElement = document.querySelector('#' + key);\n",
              "        const charts = await google.colab.kernel.invokeFunction(\n",
              "            'suggestCharts', [key], {});\n",
              "      }\n",
              "    </script>\n",
              "\n",
              "      <script>\n",
              "\n",
              "function displayQuickchartButton(domScope) {\n",
              "  let quickchartButtonEl =\n",
              "    domScope.querySelector('#df-bcdc7eae-6e1b-4641-a1cf-0c64a9b9fff5 button.colab-df-quickchart');\n",
              "  quickchartButtonEl.style.display =\n",
              "    google.colab.kernel.accessAllowed ? 'block' : 'none';\n",
              "}\n",
              "\n",
              "        displayQuickchartButton(document);\n",
              "      </script>\n",
              "      <style>\n",
              "    .colab-df-container {\n",
              "      display:flex;\n",
              "      flex-wrap:wrap;\n",
              "      gap: 12px;\n",
              "    }\n",
              "\n",
              "    .colab-df-convert {\n",
              "      background-color: #E8F0FE;\n",
              "      border: none;\n",
              "      border-radius: 50%;\n",
              "      cursor: pointer;\n",
              "      display: none;\n",
              "      fill: #1967D2;\n",
              "      height: 32px;\n",
              "      padding: 0 0 0 0;\n",
              "      width: 32px;\n",
              "    }\n",
              "\n",
              "    .colab-df-convert:hover {\n",
              "      background-color: #E2EBFA;\n",
              "      box-shadow: 0px 1px 2px rgba(60, 64, 67, 0.3), 0px 1px 3px 1px rgba(60, 64, 67, 0.15);\n",
              "      fill: #174EA6;\n",
              "    }\n",
              "\n",
              "    [theme=dark] .colab-df-convert {\n",
              "      background-color: #3B4455;\n",
              "      fill: #D2E3FC;\n",
              "    }\n",
              "\n",
              "    [theme=dark] .colab-df-convert:hover {\n",
              "      background-color: #434B5C;\n",
              "      box-shadow: 0px 1px 3px 1px rgba(0, 0, 0, 0.15);\n",
              "      filter: drop-shadow(0px 1px 2px rgba(0, 0, 0, 0.3));\n",
              "      fill: #FFFFFF;\n",
              "    }\n",
              "  </style>\n",
              "\n",
              "      <script>\n",
              "        const buttonEl =\n",
              "          document.querySelector('#df-e0dfe0f9-4305-480e-9d67-7e77c72af4b8 button.colab-df-convert');\n",
              "        buttonEl.style.display =\n",
              "          google.colab.kernel.accessAllowed ? 'block' : 'none';\n",
              "\n",
              "        async function convertToInteractive(key) {\n",
              "          const element = document.querySelector('#df-e0dfe0f9-4305-480e-9d67-7e77c72af4b8');\n",
              "          const dataTable =\n",
              "            await google.colab.kernel.invokeFunction('convertToInteractive',\n",
              "                                                     [key], {});\n",
              "          if (!dataTable) return;\n",
              "\n",
              "          const docLinkHtml = 'Like what you see? Visit the ' +\n",
              "            '<a target=\"_blank\" href=https://colab.research.google.com/notebooks/data_table.ipynb>data table notebook</a>'\n",
              "            + ' to learn more about interactive tables.';\n",
              "          element.innerHTML = '';\n",
              "          dataTable['output_type'] = 'display_data';\n",
              "          await google.colab.output.renderOutput(dataTable, element);\n",
              "          const docLink = document.createElement('div');\n",
              "          docLink.innerHTML = docLinkHtml;\n",
              "          element.appendChild(docLink);\n",
              "        }\n",
              "      </script>\n",
              "    </div>\n",
              "  </div>\n"
            ]
          },
          "metadata": {},
          "execution_count": 10
        }
      ]
    },
    {
      "cell_type": "code",
      "source": [
        "zinc_dataset.info()"
      ],
      "metadata": {
        "colab": {
          "base_uri": "https://localhost:8080/"
        },
        "id": "XlKXFSewQ9mf",
        "outputId": "466a19f9-d106-4c06-c1e7-f4d82733cd3c"
      },
      "execution_count": 13,
      "outputs": [
        {
          "output_type": "stream",
          "name": "stdout",
          "text": [
            "<class 'pandas.core.frame.DataFrame'>\n",
            "RangeIndex: 12000 entries, 0 to 11999\n",
            "Data columns (total 2 columns):\n",
            " #   Column          Non-Null Count  Dtype  \n",
            "---  ------          --------------  -----  \n",
            " 0   graph_sequence  12000 non-null  object \n",
            " 1   logP            12000 non-null  float64\n",
            "dtypes: float64(1), object(1)\n",
            "memory usage: 187.6+ KB\n"
          ]
        }
      ]
    },
    {
      "cell_type": "markdown",
      "source": [
        "**Dataset Basic Statistics:**"
      ],
      "metadata": {
        "id": "b4AVSREOQpzu"
      }
    },
    {
      "cell_type": "code",
      "source": [
        "plt.hist(zinc_dataset['logP'], bins=50, edgecolor='black')\n",
        "\n",
        "plt.title('Distribution of the logP(labels) Values')\n",
        "plt.xlabel('logP Value')\n",
        "plt.ylabel('Frequency')\n",
        "\n",
        "plt.show()"
      ],
      "metadata": {
        "colab": {
          "base_uri": "https://localhost:8080/",
          "height": 472
        },
        "id": "EEA_Zl75dNRm",
        "outputId": "e4322128-9b9a-4b88-aee6-571fbcb775ae"
      },
      "execution_count": 11,
      "outputs": [
        {
          "output_type": "display_data",
          "data": {
            "text/plain": [
              "<Figure size 640x480 with 1 Axes>"
            ],
            "image/png": "[encoded data removed]"
          },
          "metadata": {}
        }
      ]
    },
    {
      "cell_type": "code",
      "source": [
        "# from transformers import AutoTokenizer\n",
        "tokenizer = LongformerTokenizer.from_pretrained('allenai/longformer-base-4096')\n",
        "\n",
        "# Compute the number of tokens in each text\n",
        "num_tokens = [len(tokenizer.encode(text)) for text in zinc_dataset['graph_sequence']]\n",
        "\n",
        "# Create a histogram of the number of tokens\n",
        "plt.figure(figsize=(10, 6))\n",
        "plt.hist(num_tokens, bins=50)\n",
        "plt.xlabel('Number of Tokens')\n",
        "plt.ylabel('Number of Samples')\n",
        "plt.title('Distribution of the Number of Tokens in Graph Sequence samples')\n",
        "plt.show()"
      ],
      "metadata": {
        "colab": {
          "base_uri": "https://localhost:8080/",
          "height": 660,
          "referenced_widgets": [
            "c80f0e14abf142ed91fc1a6effc983c6",
            "8d8bd5760a154745918acb14428261f3",
            "a84e9c50f2a9469a939770112968048a",
            "16728ead3743454b8faac76a099788b1",
            "0537bbc757dc449cb68e681ddfd89913",
            "4aa5dc21f97b42a48dae9b172a765951",
            "a9b03b4e46e14220ab8998f3e286ce69",
            "7cd490272ecd4633a75b9e2ba7b8d9b6",
            "fc3f0f0d1cc04f92b761a634e659c2ee",
            "25cee2792c454b758077bbd9b38547d1",
            "f5d0b1bef4db44ba8693cb1a49a1353d",
            "cda6444b76d6418c9e71a9f90afa963d",
            "0ae2154dbf1c407b90a774ae0da5b612",
            "78f50f50f38f4853b58cf153cc886799",
            "eaf1190b15a546bf9b60fd8d4dc0b72f",
            "a162e4372a1640a1a5cb010a4db4bc00",
            "a99bddb073694c46828682c15cf79074",
            "b5f3900d49744d0297dfcd0732e25cbe",
            "02c35278982f43a1a4fc20936d77edb6",
            "f5a12dddc8ae4f3d820d16db1f3fbac8",
            "1180aafa0c3f4d728bdd21dd8bf59e0d",
            "ab80f14b811e4c5bbc223d8a507410e0",
            "6bbf404558334ae9b45b762e1d088814",
            "740c1265d378431bae7b030bb57d4531",
            "c8f404d777584824b58bf3ac14dc765a",
            "e521d4b1d9c5403099b7a0a09b939c6c",
            "7d8ff70cd6684c789ef49005beb6af88",
            "cd3a1420af95489da5d75ac98f574feb",
            "8a4d2f2ab0334df98b26bc694b6bc226",
            "1c6ab80267924ff49c0e9bb20be82a0f",
            "0ee6811932534138b0f75f144703c20b",
            "61f4d048d7b443ebbbedf6bba936753a",
            "2349be794d20451abc16f6f3d92e6195"
          ]
        },
        "id": "FaKXiDonWulP",
        "outputId": "194fd4b0-0a0c-4885-c186-6aab1ce48b04"
      },
      "execution_count": 12,
      "outputs": [
        {
          "output_type": "display_data",
          "data": {
            "text/plain": [
              "Downloading (…)olve/main/vocab.json:   0%|          | 0.00/899k [00:00<?, ?B/s]"
            ],
            "application/vnd.jupyter.widget-view+json": {
              "version_major": 2,
              "version_minor": 0,
              "model_id": "c80f0e14abf142ed91fc1a6effc983c6"
            }
          },
          "metadata": {}
        },
        {
          "output_type": "display_data",
          "data": {
            "text/plain": [
              "Downloading (…)olve/main/merges.txt:   0%|          | 0.00/456k [00:00<?, ?B/s]"
            ],
            "application/vnd.jupyter.widget-view+json": {
              "version_major": 2,
              "version_minor": 0,
              "model_id": "cda6444b76d6418c9e71a9f90afa963d"
            }
          },
          "metadata": {}
        },
        {
          "output_type": "display_data",
          "data": {
            "text/plain": [
              "Downloading (…)lve/main/config.json:   0%|          | 0.00/694 [00:00<?, ?B/s]"
            ],
            "application/vnd.jupyter.widget-view+json": {
              "version_major": 2,
              "version_minor": 0,
              "model_id": "6bbf404558334ae9b45b762e1d088814"
            }
          },
          "metadata": {}
        },
        {
          "output_type": "display_data",
          "data": {
            "text/plain": [
              "<Figure size 1000x600 with 1 Axes>"
            ],
            "image/png": "[encoded data removed]"
          },
          "metadata": {}
        }
      ]
    },
    {
      "cell_type": "markdown",
      "source": [
        "Train/Validation/Test splits:\n",
        "\n",
        "We divide the total of 12,000 samples into different subsets for training, validation, and testing, following the distribution used in the paper \"A Generalization of Transformer Networks to Graphs\". Specifically, we allocate 10,000 samples for training purposes, while the remaining 2,000 samples are evenly split into two sets of 1,000 each for validation and testing."
      ],
      "metadata": {
        "id": "Skam5QY9Rc65"
      }
    },
    {
      "cell_type": "code",
      "source": [
        "from sklearn.model_selection import train_test_split\n",
        "\n",
        "# First spliting the data into train+valid and test\n",
        "zinc12k_train_valid, zinc12k_test = train_test_split(zinc_dataset, test_size=1000, shuffle=True, random_state=42)\n",
        "\n",
        "# Then split the train+valid data into train and valid\n",
        "zinc12k_train, zinc12k_valid = train_test_split(zinc12k_train_valid, train_size=10000, shuffle=True, random_state=42)\n",
        "\n",
        "zinc12k_train.reset_index(inplace=True, drop=True)\n",
        "zinc12k_valid.reset_index(inplace=True, drop=True)\n",
        "zinc12k_test.reset_index(inplace=True, drop=True)"
      ],
      "metadata": {
        "id": "vL1Lip4hWupF"
      },
      "execution_count": 14,
      "outputs": []
    },
    {
      "cell_type": "markdown",
      "source": [
        "As part of our evaluation strategy, we not only benchmark our approach against the results from the study \"A Generalization of Transformer Networks to Graphs\" but also contrast it with a very basic model utilizing mean or median baseline predictions. This rudimentary model disregards any input information, offering a prediction that is simply the mean or median of the training set's target variable. Despite its simplicity, this model establishes a basic performance threshold that any effective model should surpass. Any model unable to outperform this basic approach is likely overfitting the training set without successfully identifying and learning useful patterns."
      ],
      "metadata": {
        "id": "2KvTFf7VSK-5"
      }
    },
    {
      "cell_type": "code",
      "source": [
        "mean_label = zinc12k_train['logP'].mean()\n",
        "median_label = zinc12k_train['logP'].median()\n",
        "\n",
        "# Create arrays with the size of the validation/test sets filled with the mean/median\n",
        "mean_preds = np.full_like(zinc12k_valid['logP'], fill_value=mean_label)\n",
        "median_preds = np.full_like(zinc12k_valid['logP'], fill_value=median_label)\n",
        "\n",
        "# Compute MAE for the mean and median baselines\n",
        "mean_mae = mean_absolute_error(zinc12k_valid['logP'], mean_preds)\n",
        "median_mae = mean_absolute_error(zinc12k_valid['logP'], median_preds)\n",
        "\n",
        "print(f\"Mean baseline MAE: {mean_mae}\")\n",
        "print(f\"Median baseline MAE: {median_mae}\")"
      ],
      "metadata": {
        "colab": {
          "base_uri": "https://localhost:8080/"
        },
        "id": "cVK9aGtnWuvq",
        "outputId": "ffe392a0-a44c-43c5-ff29-7e483ab94e3b"
      },
      "execution_count": 15,
      "outputs": [
        {
          "output_type": "stream",
          "name": "stdout",
          "text": [
            "Mean baseline MAE: 1.1126935442850951\n",
            "Median baseline MAE: 1.105254319530679\n"
          ]
        }
      ]
    },
    {
      "cell_type": "markdown",
      "source": [
        "This script below defines the main training, validation, and testing pipeline for a text classification task using the Longformer model from Hugging Face's Transformers library.\n",
        "\n",
        "It begins by defining a custom PyTorch Dataset that accepts the text data, labels, a tokenizer, and a maximum sequence length as inputs. The text is tokenized and encoded into input IDs and attention masks using the Longformer tokenizer.\n",
        "\n",
        "The Longformer model is then loaded and prepared for training. Key training parameters are set, including the number of epochs (10) , batch size (8), and the leaning rate (5e-5). The data loaders for the training, validation, and testing datasets are also prepared.\n",
        "\n",
        "The training loop involves the forward pass, the computation of the loss, and the backward pass for gradient computation. After a certain number of steps (4, as defined by the gradient accumulation parameter), the model's parameters are updated.\n",
        "\n",
        "After each epoch of training, the model is switched to evaluation mode and the Mean Absolute Error (MAE) on the validation set is calculated.\n",
        "\n",
        "Once the training process is complete, the final model is evaluated on the test set, and the Mean Absolute Error (MAE) on the test data is reported.\n",
        "\n",
        "Throughout the process, memory is periodically cleared to maintain efficiency."
      ],
      "metadata": {
        "id": "LkOhqf9PWWSO"
      }
    },
    {
      "cell_type": "code",
      "source": [
        "class TextDataset(Dataset):\n",
        "    def __init__(self, texts, labels, tokenizer, max_len):\n",
        "        self.texts = texts\n",
        "        self.labels = labels\n",
        "        self.tokenizer = tokenizer\n",
        "        self.max_len = max_len\n",
        "\n",
        "    def __len__(self):\n",
        "        return len(self.texts)\n",
        "\n",
        "    def __getitem__(self, idx):\n",
        "        text = str(self.texts[idx])\n",
        "        label = self.labels[idx]\n",
        "        encoding = self.tokenizer.encode_plus(\n",
        "            text,\n",
        "            add_special_tokens=True,\n",
        "            max_length=self.max_len,\n",
        "            return_token_type_ids=False,\n",
        "            padding='max_length',\n",
        "            return_attention_mask=True,\n",
        "            return_tensors='pt',\n",
        "            truncation=True\n",
        "        )\n",
        "\n",
        "        return {\n",
        "            'text': text,\n",
        "            'input_ids': encoding['input_ids'].flatten(),\n",
        "            'attention_mask': encoding['attention_mask'].flatten(),\n",
        "            'label': torch.tensor(label, dtype=torch.float)\n",
        "        }\n",
        "\n",
        "# Load tokenizer and model\n",
        "tokenizer = LongformerTokenizer.from_pretrained('allenai/longformer-base-4096')\n",
        "model = LongformerForSequenceClassification.from_pretrained('allenai/longformer-base-4096', num_labels=1)\n",
        "\n",
        "# Training parameters\n",
        "epochs = 10\n",
        "batch_size = 8\n",
        "grad_acc_steps = 4  # Update the model every grad_acc_steps batches\n",
        "device = torch.device('cuda') if torch.cuda.is_available() else torch.device('cpu')\n",
        "\n",
        "# Create data loaders\n",
        "train_data = TextDataset(zinc12k_train['graph_sequence'], zinc12k_train['logP'], tokenizer, max_len=300)\n",
        "val_data = TextDataset(zinc12k_valid['graph_sequence'], zinc12k_valid['logP'], tokenizer, max_len=300)\n",
        "test_data = TextDataset(zinc12k_test['graph_sequence'], zinc12k_test['logP'], tokenizer, max_len=300)\n",
        "\n",
        "train_loader = DataLoader(train_data, batch_size=batch_size)\n",
        "val_loader = DataLoader(val_data, batch_size=batch_size)\n",
        "test_loader = DataLoader(test_data, batch_size=batch_size)\n",
        "\n",
        "# Move model to device and specify optimizer\n",
        "model = model.to(device)\n",
        "optim = AdamW(model.parameters(), lr=5e-5)\n",
        "\n",
        "# Variables to store per-epoch metrics\n",
        "train_loss_values = []\n",
        "val_mae_values = []\n",
        "\n",
        "# Training loop\n",
        "for epoch in range(epochs):\n",
        "    model.train()\n",
        "    total_loss = 0.0\n",
        "    for i, batch in enumerate(tqdm(train_loader)):\n",
        "        optim.zero_grad()\n",
        "        input_ids = batch['input_ids'].to(device)\n",
        "        attention_mask = batch['attention_mask'].to(device)\n",
        "        labels = batch['label'].to(device)\n",
        "        outputs = model(input_ids, attention_mask=attention_mask, labels=labels)\n",
        "        loss = outputs.loss\n",
        "        total_loss += loss.item()  # Update total loss\n",
        "        loss.backward()\n",
        "\n",
        "        # Gradient accumulation\n",
        "        if (i + 1) % grad_acc_steps == 0 or i == len(train_loader) - 1:\n",
        "            optim.step()\n",
        "            optim.zero_grad()\n",
        "            gc.collect()  # Run garbage collector to free up memory\n",
        "            torch.cuda.empty_cache()  # Free up memory\n",
        "\n",
        "    # After the training, save the model\n",
        "    model_save_name = 'zinc_longformer_model.pth'\n",
        "    path = F\"/content/gdrive/My Drive/{model_save_name}\"\n",
        "    torch.save(model.state_dict(), path)\n",
        "\n",
        "    # After the end of each epoch, compute the average training loss\n",
        "    avg_train_loss = total_loss / len(train_loader)\n",
        "    train_loss_values.append(avg_train_loss)\n",
        "\n",
        "    model.eval()\n",
        "    preds, true = [], []\n",
        "    with torch.no_grad():\n",
        "        for batch in tqdm(val_loader):\n",
        "            input_ids = batch['input_ids'].to(device)\n",
        "            attention_mask = batch['attention_mask'].to(device)\n",
        "            labels = batch['label'].to(device)\n",
        "            outputs = model(input_ids, attention_mask=attention_mask)\n",
        "            preds.extend(outputs.logits.squeeze().detach().cpu().numpy())\n",
        "            true.extend(labels.cpu().numpy())\n",
        "            gc.collect()  # Run garbage collector to free up memory\n",
        "            torch.cuda.empty_cache()  # Free up memory\n",
        "    val_mae = mean_absolute_error(true, preds)\n",
        "    val_mae_values.append(val_mae)\n",
        "    print(f'Epoch: {epoch}, MAE: {mean_absolute_error(true, preds)}')\n",
        "\n",
        "# Test\n",
        "model.eval()\n",
        "preds, true = [], []\n",
        "with torch.no_grad():\n",
        "    for batch in test_loader:\n",
        "        input_ids = batch['input_ids'].to(device)\n",
        "        attention_mask = batch['attention_mask'].to(device)\n",
        "        labels = batch['label'].to(device)\n",
        "        outputs = model(input_ids, attention_mask=attention_mask)\n",
        "        preds.extend(outputs.logits.squeeze().detach().cpu().numpy())\n",
        "        true.extend(labels.cpu().numpy())\n",
        "print(f'Test MAE: {mean_absolute_error(true, preds)}')"
      ],
      "metadata": {
        "id": "s-0phLqZWuzn"
      },
      "execution_count": null,
      "outputs": []
    },
    {
      "cell_type": "code",
      "source": [
        "# plot the training loss values\n",
        "plt.figure(figsize=(10, 5))\n",
        "plt.plot(train_loss_values)\n",
        "plt.title('Training Loss as a function of epochs')\n",
        "plt.xlabel('Epochs')\n",
        "plt.ylabel('Training Loss')\n",
        "plt.show()"
      ],
      "metadata": {
        "id": "BL9YE-BXYLex"
      },
      "execution_count": null,
      "outputs": []
    },
    {
      "cell_type": "code",
      "source": [
        "# plot the validation MAE values\n",
        "plt.figure(figsize=(10, 5))\n",
        "plt.plot(val_mae_values)\n",
        "plt.title('Validation MAE as a function of epochs')\n",
        "plt.xlabel('Epochs')\n",
        "plt.ylabel('Validation MAE')\n",
        "plt.show()"
      ],
      "metadata": {
        "id": "auYGsg0zYUb1"
      },
      "execution_count": null,
      "outputs": []
    },
    {
      "cell_type": "code",
      "source": [
        "# #load it from Google Drive:\n",
        "# model_save_name = 'zinc_longformer_model.pth'\n",
        "# path = F\"/content/gdrive/My Drive/{model_save_name}\"\n",
        "# model = LongformerForSequenceClassification.from_pretrained('allenai/longformer-base-4096', num_labels=1)\n",
        "# model.load_state_dict(torch.load(path))"
      ],
      "metadata": {
        "id": "xDUdgLjrWu74"
      },
      "execution_count": null,
      "outputs": []
    },
    {
      "cell_type": "code",
      "source": [],
      "metadata": {
        "id": "QAjUFxfGWvBN"
      },
      "execution_count": null,
      "outputs": []
    }
  ],
  "metadata": {
    "accelerator": "GPU",
    "colab": {
      "provenance": [],
      "machine_shape": "hm",
      "gpuType": "T4"
    },
    "kernelspec": {
      "display_name": "Python 3",
      "name": "python3"
    },
    "language_info": {
      "name": "python"
    },
    "widgets": {
      "application/vnd.jupyter.widget-state+json": {
        "c80f0e14abf142ed91fc1a6effc983c6": {
          "model_module": "@jupyter-widgets/controls",
          "model_name": "HBoxModel",
          "model_module_version": "1.5.0",
          "state": {
            "_dom_classes": [],
            "_model_module": "@jupyter-widgets/controls",
            "_model_module_version": "1.5.0",
            "_model_name": "HBoxModel",
            "_view_count": null,
            "_view_module": "@jupyter-widgets/controls",
            "_view_module_version": "1.5.0",
            "_view_name": "HBoxView",
            "box_style": "",
            "children": [
              "IPY_MODEL_8d8bd5760a154745918acb14428261f3",
              "IPY_MODEL_a84e9c50f2a9469a939770112968048a",
              "IPY_MODEL_16728ead3743454b8faac76a099788b1"
            ],
            "layout": "IPY_MODEL_0537bbc757dc449cb68e681ddfd89913"
          }
        },
        "8d8bd5760a154745918acb14428261f3": {
          "model_module": "@jupyter-widgets/controls",
          "model_name": "HTMLModel",
          "model_module_version": "1.5.0",
          "state": {
            "_dom_classes": [],
            "_model_module": "@jupyter-widgets/controls",
            "_model_module_version": "1.5.0",
            "_model_name": "HTMLModel",
            "_view_count": null,
            "_view_module": "@jupyter-widgets/controls",
            "_view_module_version": "1.5.0",
            "_view_name": "HTMLView",
            "description": "",
            "description_tooltip": null,
            "layout": "IPY_MODEL_4aa5dc21f97b42a48dae9b172a765951",
            "placeholder": "​",
            "style": "IPY_MODEL_a9b03b4e46e14220ab8998f3e286ce69",
            "value": "Downloading (…)olve/main/vocab.json: 100%"
          }
        },
        "a84e9c50f2a9469a939770112968048a": {
          "model_module": "@jupyter-widgets/controls",
          "model_name": "FloatProgressModel",
          "model_module_version": "1.5.0",
          "state": {
            "_dom_classes": [],
            "_model_module": "@jupyter-widgets/controls",
            "_model_module_version": "1.5.0",
            "_model_name": "FloatProgressModel",
            "_view_count": null,
            "_view_module": "@jupyter-widgets/controls",
            "_view_module_version": "1.5.0",
            "_view_name": "ProgressView",
            "bar_style": "success",
            "description": "",
            "description_tooltip": null,
            "layout": "IPY_MODEL_7cd490272ecd4633a75b9e2ba7b8d9b6",
            "max": 898823,
            "min": 0,
            "orientation": "horizontal",
            "style": "IPY_MODEL_fc3f0f0d1cc04f92b761a634e659c2ee",
            "value": 898823
          }
        },
        "16728ead3743454b8faac76a099788b1": {
          "model_module": "@jupyter-widgets/controls",
          "model_name": "HTMLModel",
          "model_module_version": "1.5.0",
          "state": {
            "_dom_classes": [],
            "_model_module": "@jupyter-widgets/controls",
            "_model_module_version": "1.5.0",
            "_model_name": "HTMLModel",
            "_view_count": null,
            "_view_module": "@jupyter-widgets/controls",
            "_view_module_version": "1.5.0",
            "_view_name": "HTMLView",
            "description": "",
            "description_tooltip": null,
            "layout": "IPY_MODEL_25cee2792c454b758077bbd9b38547d1",
            "placeholder": "​",
            "style": "IPY_MODEL_f5d0b1bef4db44ba8693cb1a49a1353d",
            "value": " 899k/899k [00:00&lt;00:00, 1.05MB/s]"
          }
        },
        "0537bbc757dc449cb68e681ddfd89913": {
          "model_module": "@jupyter-widgets/base",
          "model_name": "LayoutModel",
          "model_module_version": "1.2.0",
          "state": {
            "_model_module": "@jupyter-widgets/base",
            "_model_module_version": "1.2.0",
            "_model_name": "LayoutModel",
            "_view_count": null,
            "_view_module": "@jupyter-widgets/base",
            "_view_module_version": "1.2.0",
            "_view_name": "LayoutView",
            "align_content": null,
            "align_items": null,
            "align_self": null,
            "border": null,
            "bottom": null,
            "display": null,
            "flex": null,
            "flex_flow": null,
            "grid_area": null,
            "grid_auto_columns": null,
            "grid_auto_flow": null,
            "grid_auto_rows": null,
            "grid_column": null,
            "grid_gap": null,
            "grid_row": null,
            "grid_template_areas": null,
            "grid_template_columns": null,
            "grid_template_rows": null,
            "height": null,
            "justify_content": null,
            "justify_items": null,
            "left": null,
            "margin": null,
            "max_height": null,
            "max_width": null,
            "min_height": null,
            "min_width": null,
            "object_fit": null,
            "object_position": null,
            "order": null,
            "overflow": null,
            "overflow_x": null,
            "overflow_y": null,
            "padding": null,
            "right": null,
            "top": null,
            "visibility": null,
            "width": null
          }
        },
        "4aa5dc21f97b42a48dae9b172a765951": {
          "model_module": "@jupyter-widgets/base",
          "model_name": "LayoutModel",
          "model_module_version": "1.2.0",
          "state": {
            "_model_module": "@jupyter-widgets/base",
            "_model_module_version": "1.2.0",
            "_model_name": "LayoutModel",
            "_view_count": null,
            "_view_module": "@jupyter-widgets/base",
            "_view_module_version": "1.2.0",
            "_view_name": "LayoutView",
            "align_content": null,
            "align_items": null,
            "align_self": null,
            "border": null,
            "bottom": null,
            "display": null,
            "flex": null,
            "flex_flow": null,
            "grid_area": null,
            "grid_auto_columns": null,
            "grid_auto_flow": null,
            "grid_auto_rows": null,
            "grid_column": null,
            "grid_gap": null,
            "grid_row": null,
            "grid_template_areas": null,
            "grid_template_columns": null,
            "grid_template_rows": null,
            "height": null,
            "justify_content": null,
            "justify_items": null,
            "left": null,
            "margin": null,
            "max_height": null,
            "max_width": null,
            "min_height": null,
            "min_width": null,
            "object_fit": null,
            "object_position": null,
            "order": null,
            "overflow": null,
            "overflow_x": null,
            "overflow_y": null,
            "padding": null,
            "right": null,
            "top": null,
            "visibility": null,
            "width": null
          }
        },
        "a9b03b4e46e14220ab8998f3e286ce69": {
          "model_module": "@jupyter-widgets/controls",
          "model_name": "DescriptionStyleModel",
          "model_module_version": "1.5.0",
          "state": {
            "_model_module": "@jupyter-widgets/controls",
            "_model_module_version": "1.5.0",
            "_model_name": "DescriptionStyleModel",
            "_view_count": null,
            "_view_module": "@jupyter-widgets/base",
            "_view_module_version": "1.2.0",
            "_view_name": "StyleView",
            "description_width": ""
          }
        },
        "7cd490272ecd4633a75b9e2ba7b8d9b6": {
          "model_module": "@jupyter-widgets/base",
          "model_name": "LayoutModel",
          "model_module_version": "1.2.0",
          "state": {
            "_model_module": "@jupyter-widgets/base",
            "_model_module_version": "1.2.0",
            "_model_name": "LayoutModel",
            "_view_count": null,
            "_view_module": "@jupyter-widgets/base",
            "_view_module_version": "1.2.0",
            "_view_name": "LayoutView",
            "align_content": null,
            "align_items": null,
            "align_self": null,
            "border": null,
            "bottom": null,
            "display": null,
            "flex": null,
            "flex_flow": null,
            "grid_area": null,
            "grid_auto_columns": null,
            "grid_auto_flow": null,
            "grid_auto_rows": null,
            "grid_column": null,
            "grid_gap": null,
            "grid_row": null,
            "grid_template_areas": null,
            "grid_template_columns": null,
            "grid_template_rows": null,
            "height": null,
            "justify_content": null,
            "justify_items": null,
            "left": null,
            "margin": null,
            "max_height": null,
            "max_width": null,
            "min_height": null,
            "min_width": null,
            "object_fit": null,
            "object_position": null,
            "order": null,
            "overflow": null,
            "overflow_x": null,
            "overflow_y": null,
            "padding": null,
            "right": null,
            "top": null,
            "visibility": null,
            "width": null
          }
        },
        "fc3f0f0d1cc04f92b761a634e659c2ee": {
          "model_module": "@jupyter-widgets/controls",
          "model_name": "ProgressStyleModel",
          "model_module_version": "1.5.0",
          "state": {
            "_model_module": "@jupyter-widgets/controls",
            "_model_module_version": "1.5.0",
            "_model_name": "ProgressStyleModel",
            "_view_count": null,
            "_view_module": "@jupyter-widgets/base",
            "_view_module_version": "1.2.0",
            "_view_name": "StyleView",
            "bar_color": null,
            "description_width": ""
          }
        },
        "25cee2792c454b758077bbd9b38547d1": {
          "model_module": "@jupyter-widgets/base",
          "model_name": "LayoutModel",
          "model_module_version": "1.2.0",
          "state": {
            "_model_module": "@jupyter-widgets/base",
            "_model_module_version": "1.2.0",
            "_model_name": "LayoutModel",
            "_view_count": null,
            "_view_module": "@jupyter-widgets/base",
            "_view_module_version": "1.2.0",
            "_view_name": "LayoutView",
            "align_content": null,
            "align_items": null,
            "align_self": null,
            "border": null,
            "bottom": null,
            "display": null,
            "flex": null,
            "flex_flow": null,
            "grid_area": null,
            "grid_auto_columns": null,
            "grid_auto_flow": null,
            "grid_auto_rows": null,
            "grid_column": null,
            "grid_gap": null,
            "grid_row": null,
            "grid_template_areas": null,
            "grid_template_columns": null,
            "grid_template_rows": null,
            "height": null,
            "justify_content": null,
            "justify_items": null,
            "left": null,
            "margin": null,
            "max_height": null,
            "max_width": null,
            "min_height": null,
            "min_width": null,
            "object_fit": null,
            "object_position": null,
            "order": null,
            "overflow": null,
            "overflow_x": null,
            "overflow_y": null,
            "padding": null,
            "right": null,
            "top": null,
            "visibility": null,
            "width": null
          }
        },
        "f5d0b1bef4db44ba8693cb1a49a1353d": {
          "model_module": "@jupyter-widgets/controls",
          "model_name": "DescriptionStyleModel",
          "model_module_version": "1.5.0",
          "state": {
            "_model_module": "@jupyter-widgets/controls",
            "_model_module_version": "1.5.0",
            "_model_name": "DescriptionStyleModel",
            "_view_count": null,
            "_view_module": "@jupyter-widgets/base",
            "_view_module_version": "1.2.0",
            "_view_name": "StyleView",
            "description_width": ""
          }
        },
        "cda6444b76d6418c9e71a9f90afa963d": {
          "model_module": "@jupyter-widgets/controls",
          "model_name": "HBoxModel",
          "model_module_version": "1.5.0",
          "state": {
            "_dom_classes": [],
            "_model_module": "@jupyter-widgets/controls",
            "_model_module_version": "1.5.0",
            "_model_name": "HBoxModel",
            "_view_count": null,
            "_view_module": "@jupyter-widgets/controls",
            "_view_module_version": "1.5.0",
            "_view_name": "HBoxView",
            "box_style": "",
            "children": [
              "IPY_MODEL_0ae2154dbf1c407b90a774ae0da5b612",
              "IPY_MODEL_78f50f50f38f4853b58cf153cc886799",
              "IPY_MODEL_eaf1190b15a546bf9b60fd8d4dc0b72f"
            ],
            "layout": "IPY_MODEL_a162e4372a1640a1a5cb010a4db4bc00"
          }
        },
        "0ae2154dbf1c407b90a774ae0da5b612": {
          "model_module": "@jupyter-widgets/controls",
          "model_name": "HTMLModel",
          "model_module_version": "1.5.0",
          "state": {
            "_dom_classes": [],
            "_model_module": "@jupyter-widgets/controls",
            "_model_module_version": "1.5.0",
            "_model_name": "HTMLModel",
            "_view_count": null,
            "_view_module": "@jupyter-widgets/controls",
            "_view_module_version": "1.5.0",
            "_view_name": "HTMLView",
            "description": "",
            "description_tooltip": null,
            "layout": "IPY_MODEL_a99bddb073694c46828682c15cf79074",
            "placeholder": "​",
            "style": "IPY_MODEL_b5f3900d49744d0297dfcd0732e25cbe",
            "value": "Downloading (…)olve/main/merges.txt: 100%"
          }
        },
        "78f50f50f38f4853b58cf153cc886799": {
          "model_module": "@jupyter-widgets/controls",
          "model_name": "FloatProgressModel",
          "model_module_version": "1.5.0",
          "state": {
            "_dom_classes": [],
            "_model_module": "@jupyter-widgets/controls",
            "_model_module_version": "1.5.0",
            "_model_name": "FloatProgressModel",
            "_view_count": null,
            "_view_module": "@jupyter-widgets/controls",
            "_view_module_version": "1.5.0",
            "_view_name": "ProgressView",
            "bar_style": "success",
            "description": "",
            "description_tooltip": null,
            "layout": "IPY_MODEL_02c35278982f43a1a4fc20936d77edb6",
            "max": 456318,
            "min": 0,
            "orientation": "horizontal",
            "style": "IPY_MODEL_f5a12dddc8ae4f3d820d16db1f3fbac8",
            "value": 456318
          }
        },
        "eaf1190b15a546bf9b60fd8d4dc0b72f": {
          "model_module": "@jupyter-widgets/controls",
          "model_name": "HTMLModel",
          "model_module_version": "1.5.0",
          "state": {
            "_dom_classes": [],
            "_model_module": "@jupyter-widgets/controls",
            "_model_module_version": "1.5.0",
            "_model_name": "HTMLModel",
            "_view_count": null,
            "_view_module": "@jupyter-widgets/controls",
            "_view_module_version": "1.5.0",
            "_view_name": "HTMLView",
            "description": "",
            "description_tooltip": null,
            "layout": "IPY_MODEL_1180aafa0c3f4d728bdd21dd8bf59e0d",
            "placeholder": "​",
            "style": "IPY_MODEL_ab80f14b811e4c5bbc223d8a507410e0",
            "value": " 456k/456k [00:00&lt;00:00, 2.15MB/s]"
          }
        },
        "a162e4372a1640a1a5cb010a4db4bc00": {
          "model_module": "@jupyter-widgets/base",
          "model_name": "LayoutModel",
          "model_module_version": "1.2.0",
          "state": {
            "_model_module": "@jupyter-widgets/base",
            "_model_module_version": "1.2.0",
            "_model_name": "LayoutModel",
            "_view_count": null,
            "_view_module": "@jupyter-widgets/base",
            "_view_module_version": "1.2.0",
            "_view_name": "LayoutView",
            "align_content": null,
            "align_items": null,
            "align_self": null,
            "border": null,
            "bottom": null,
            "display": null,
            "flex": null,
            "flex_flow": null,
            "grid_area": null,
            "grid_auto_columns": null,
            "grid_auto_flow": null,
            "grid_auto_rows": null,
            "grid_column": null,
            "grid_gap": null,
            "grid_row": null,
            "grid_template_areas": null,
            "grid_template_columns": null,
            "grid_template_rows": null,
            "height": null,
            "justify_content": null,
            "justify_items": null,
            "left": null,
            "margin": null,
            "max_height": null,
            "max_width": null,
            "min_height": null,
            "min_width": null,
            "object_fit": null,
            "object_position": null,
            "order": null,
            "overflow": null,
            "overflow_x": null,
            "overflow_y": null,
            "padding": null,
            "right": null,
            "top": null,
            "visibility": null,
            "width": null
          }
        },
        "a99bddb073694c46828682c15cf79074": {
          "model_module": "@jupyter-widgets/base",
          "model_name": "LayoutModel",
          "model_module_version": "1.2.0",
          "state": {
            "_model_module": "@jupyter-widgets/base",
            "_model_module_version": "1.2.0",
            "_model_name": "LayoutModel",
            "_view_count": null,
            "_view_module": "@jupyter-widgets/base",
            "_view_module_version": "1.2.0",
            "_view_name": "LayoutView",
            "align_content": null,
            "align_items": null,
            "align_self": null,
            "border": null,
            "bottom": null,
            "display": null,
            "flex": null,
            "flex_flow": null,
            "grid_area": null,
            "grid_auto_columns": null,
            "grid_auto_flow": null,
            "grid_auto_rows": null,
            "grid_column": null,
            "grid_gap": null,
            "grid_row": null,
            "grid_template_areas": null,
            "grid_template_columns": null,
            "grid_template_rows": null,
            "height": null,
            "justify_content": null,
            "justify_items": null,
            "left": null,
            "margin": null,
            "max_height": null,
            "max_width": null,
            "min_height": null,
            "min_width": null,
            "object_fit": null,
            "object_position": null,
            "order": null,
            "overflow": null,
            "overflow_x": null,
            "overflow_y": null,
            "padding": null,
            "right": null,
            "top": null,
            "visibility": null,
            "width": null
          }
        },
        "b5f3900d49744d0297dfcd0732e25cbe": {
          "model_module": "@jupyter-widgets/controls",
          "model_name": "DescriptionStyleModel",
          "model_module_version": "1.5.0",
          "state": {
            "_model_module": "@jupyter-widgets/controls",
            "_model_module_version": "1.5.0",
            "_model_name": "DescriptionStyleModel",
            "_view_count": null,
            "_view_module": "@jupyter-widgets/base",
            "_view_module_version": "1.2.0",
            "_view_name": "StyleView",
            "description_width": ""
          }
        },
        "02c35278982f43a1a4fc20936d77edb6": {
          "model_module": "@jupyter-widgets/base",
          "model_name": "LayoutModel",
          "model_module_version": "1.2.0",
          "state": {
            "_model_module": "@jupyter-widgets/base",
            "_model_module_version": "1.2.0",
            "_model_name": "LayoutModel",
            "_view_count": null,
            "_view_module": "@jupyter-widgets/base",
            "_view_module_version": "1.2.0",
            "_view_name": "LayoutView",
            "align_content": null,
            "align_items": null,
            "align_self": null,
            "border": null,
            "bottom": null,
            "display": null,
            "flex": null,
            "flex_flow": null,
            "grid_area": null,
            "grid_auto_columns": null,
            "grid_auto_flow": null,
            "grid_auto_rows": null,
            "grid_column": null,
            "grid_gap": null,
            "grid_row": null,
            "grid_template_areas": null,
            "grid_template_columns": null,
            "grid_template_rows": null,
            "height": null,
            "justify_content": null,
            "justify_items": null,
            "left": null,
            "margin": null,
            "max_height": null,
            "max_width": null,
            "min_height": null,
            "min_width": null,
            "object_fit": null,
            "object_position": null,
            "order": null,
            "overflow": null,
            "overflow_x": null,
            "overflow_y": null,
            "padding": null,
            "right": null,
            "top": null,
            "visibility": null,
            "width": null
          }
        },
        "f5a12dddc8ae4f3d820d16db1f3fbac8": {
          "model_module": "@jupyter-widgets/controls",
          "model_name": "ProgressStyleModel",
          "model_module_version": "1.5.0",
          "state": {
            "_model_module": "@jupyter-widgets/controls",
            "_model_module_version": "1.5.0",
            "_model_name": "ProgressStyleModel",
            "_view_count": null,
            "_view_module": "@jupyter-widgets/base",
            "_view_module_version": "1.2.0",
            "_view_name": "StyleView",
            "bar_color": null,
            "description_width": ""
          }
        },
        "1180aafa0c3f4d728bdd21dd8bf59e0d": {
          "model_module": "@jupyter-widgets/base",
          "model_name": "LayoutModel",
          "model_module_version": "1.2.0",
          "state": {
            "_model_module": "@jupyter-widgets/base",
            "_model_module_version": "1.2.0",
            "_model_name": "LayoutModel",
            "_view_count": null,
            "_view_module": "@jupyter-widgets/base",
            "_view_module_version": "1.2.0",
            "_view_name": "LayoutView",
            "align_content": null,
            "align_items": null,
            "align_self": null,
            "border": null,
            "bottom": null,
            "display": null,
            "flex": null,
            "flex_flow": null,
            "grid_area": null,
            "grid_auto_columns": null,
            "grid_auto_flow": null,
            "grid_auto_rows": null,
            "grid_column": null,
            "grid_gap": null,
            "grid_row": null,
            "grid_template_areas": null,
            "grid_template_columns": null,
            "grid_template_rows": null,
            "height": null,
            "justify_content": null,
            "justify_items": null,
            "left": null,
            "margin": null,
            "max_height": null,
            "max_width": null,
            "min_height": null,
            "min_width": null,
            "object_fit": null,
            "object_position": null,
            "order": null,
            "overflow": null,
            "overflow_x": null,
            "overflow_y": null,
            "padding": null,
            "right": null,
            "top": null,
            "visibility": null,
            "width": null
          }
        },
        "ab80f14b811e4c5bbc223d8a507410e0": {
          "model_module": "@jupyter-widgets/controls",
          "model_name": "DescriptionStyleModel",
          "model_module_version": "1.5.0",
          "state": {
            "_model_module": "@jupyter-widgets/controls",
            "_model_module_version": "1.5.0",
            "_model_name": "DescriptionStyleModel",
            "_view_count": null,
            "_view_module": "@jupyter-widgets/base",
            "_view_module_version": "1.2.0",
            "_view_name": "StyleView",
            "description_width": ""
          }
        },
        "6bbf404558334ae9b45b762e1d088814": {
          "model_module": "@jupyter-widgets/controls",
          "model_name": "HBoxModel",
          "model_module_version": "1.5.0",
          "state": {
            "_dom_classes": [],
            "_model_module": "@jupyter-widgets/controls",
            "_model_module_version": "1.5.0",
            "_model_name": "HBoxModel",
            "_view_count": null,
            "_view_module": "@jupyter-widgets/controls",
            "_view_module_version": "1.5.0",
            "_view_name": "HBoxView",
            "box_style": "",
            "children": [
              "IPY_MODEL_740c1265d378431bae7b030bb57d4531",
              "IPY_MODEL_c8f404d777584824b58bf3ac14dc765a",
              "IPY_MODEL_e521d4b1d9c5403099b7a0a09b939c6c"
            ],
            "layout": "IPY_MODEL_7d8ff70cd6684c789ef49005beb6af88"
          }
        },
        "740c1265d378431bae7b030bb57d4531": {
          "model_module": "@jupyter-widgets/controls",
          "model_name": "HTMLModel",
          "model_module_version": "1.5.0",
          "state": {
            "_dom_classes": [],
            "_model_module": "@jupyter-widgets/controls",
            "_model_module_version": "1.5.0",
            "_model_name": "HTMLModel",
            "_view_count": null,
            "_view_module": "@jupyter-widgets/controls",
            "_view_module_version": "1.5.0",
            "_view_name": "HTMLView",
            "description": "",
            "description_tooltip": null,
            "layout": "IPY_MODEL_cd3a1420af95489da5d75ac98f574feb",
            "placeholder": "​",
            "style": "IPY_MODEL_8a4d2f2ab0334df98b26bc694b6bc226",
            "value": "Downloading (…)lve/main/config.json: 100%"
          }
        },
        "c8f404d777584824b58bf3ac14dc765a": {
          "model_module": "@jupyter-widgets/controls",
          "model_name": "FloatProgressModel",
          "model_module_version": "1.5.0",
          "state": {
            "_dom_classes": [],
            "_model_module": "@jupyter-widgets/controls",
            "_model_module_version": "1.5.0",
            "_model_name": "FloatProgressModel",
            "_view_count": null,
            "_view_module": "@jupyter-widgets/controls",
            "_view_module_version": "1.5.0",
            "_view_name": "ProgressView",
            "bar_style": "success",
            "description": "",
            "description_tooltip": null,
            "layout": "IPY_MODEL_1c6ab80267924ff49c0e9bb20be82a0f",
            "max": 694,
            "min": 0,
            "orientation": "horizontal",
            "style": "IPY_MODEL_0ee6811932534138b0f75f144703c20b",
            "value": 694
          }
        },
        "e521d4b1d9c5403099b7a0a09b939c6c": {
          "model_module": "@jupyter-widgets/controls",
          "model_name": "HTMLModel",
          "model_module_version": "1.5.0",
          "state": {
            "_dom_classes": [],
            "_model_module": "@jupyter-widgets/controls",
            "_model_module_version": "1.5.0",
            "_model_name": "HTMLModel",
            "_view_count": null,
            "_view_module": "@jupyter-widgets/controls",
            "_view_module_version": "1.5.0",
            "_view_name": "HTMLView",
            "description": "",
            "description_tooltip": null,
            "layout": "IPY_MODEL_61f4d048d7b443ebbbedf6bba936753a",
            "placeholder": "​",
            "style": "IPY_MODEL_2349be794d20451abc16f6f3d92e6195",
            "value": " 694/694 [00:00&lt;00:00, 47.1kB/s]"
          }
        },
        "7d8ff70cd6684c789ef49005beb6af88": {
          "model_module": "@jupyter-widgets/base",
          "model_name": "LayoutModel",
          "model_module_version": "1.2.0",
          "state": {
            "_model_module": "@jupyter-widgets/base",
            "_model_module_version": "1.2.0",
            "_model_name": "LayoutModel",
            "_view_count": null,
            "_view_module": "@jupyter-widgets/base",
            "_view_module_version": "1.2.0",
            "_view_name": "LayoutView",
            "align_content": null,
            "align_items": null,
            "align_self": null,
            "border": null,
            "bottom": null,
            "display": null,
            "flex": null,
            "flex_flow": null,
            "grid_area": null,
            "grid_auto_columns": null,
            "grid_auto_flow": null,
            "grid_auto_rows": null,
            "grid_column": null,
            "grid_gap": null,
            "grid_row": null,
            "grid_template_areas": null,
            "grid_template_columns": null,
            "grid_template_rows": null,
            "height": null,
            "justify_content": null,
            "justify_items": null,
            "left": null,
            "margin": null,
            "max_height": null,
            "max_width": null,
            "min_height": null,
            "min_width": null,
            "object_fit": null,
            "object_position": null,
            "order": null,
            "overflow": null,
            "overflow_x": null,
            "overflow_y": null,
            "padding": null,
            "right": null,
            "top": null,
            "visibility": null,
            "width": null
          }
        },
        "cd3a1420af95489da5d75ac98f574feb": {
          "model_module": "@jupyter-widgets/base",
          "model_name": "LayoutModel",
          "model_module_version": "1.2.0",
          "state": {
            "_model_module": "@jupyter-widgets/base",
            "_model_module_version": "1.2.0",
            "_model_name": "LayoutModel",
            "_view_count": null,
            "_view_module": "@jupyter-widgets/base",
            "_view_module_version": "1.2.0",
            "_view_name": "LayoutView",
            "align_content": null,
            "align_items": null,
            "align_self": null,
            "border": null,
            "bottom": null,
            "display": null,
            "flex": null,
            "flex_flow": null,
            "grid_area": null,
            "grid_auto_columns": null,
            "grid_auto_flow": null,
            "grid_auto_rows": null,
            "grid_column": null,
            "grid_gap": null,
            "grid_row": null,
            "grid_template_areas": null,
            "grid_template_columns": null,
            "grid_template_rows": null,
            "height": null,
            "justify_content": null,
            "justify_items": null,
            "left": null,
            "margin": null,
            "max_height": null,
            "max_width": null,
            "min_height": null,
            "min_width": null,
            "object_fit": null,
            "object_position": null,
            "order": null,
            "overflow": null,
            "overflow_x": null,
            "overflow_y": null,
            "padding": null,
            "right": null,
            "top": null,
            "visibility": null,
            "width": null
          }
        },
        "8a4d2f2ab0334df98b26bc694b6bc226": {
          "model_module": "@jupyter-widgets/controls",
          "model_name": "DescriptionStyleModel",
          "model_module_version": "1.5.0",
          "state": {
            "_model_module": "@jupyter-widgets/controls",
            "_model_module_version": "1.5.0",
            "_model_name": "DescriptionStyleModel",
            "_view_count": null,
            "_view_module": "@jupyter-widgets/base",
            "_view_module_version": "1.2.0",
            "_view_name": "StyleView",
            "description_width": ""
          }
        },
        "1c6ab80267924ff49c0e9bb20be82a0f": {
          "model_module": "@jupyter-widgets/base",
          "model_name": "LayoutModel",
          "model_module_version": "1.2.0",
          "state": {
            "_model_module": "@jupyter-widgets/base",
            "_model_module_version": "1.2.0",
            "_model_name": "LayoutModel",
            "_view_count": null,
            "_view_module": "@jupyter-widgets/base",
            "_view_module_version": "1.2.0",
            "_view_name": "LayoutView",
            "align_content": null,
            "align_items": null,
            "align_self": null,
            "border": null,
            "bottom": null,
            "display": null,
            "flex": null,
            "flex_flow": null,
            "grid_area": null,
            "grid_auto_columns": null,
            "grid_auto_flow": null,
            "grid_auto_rows": null,
            "grid_column": null,
            "grid_gap": null,
            "grid_row": null,
            "grid_template_areas": null,
            "grid_template_columns": null,
            "grid_template_rows": null,
            "height": null,
            "justify_content": null,
            "justify_items": null,
            "left": null,
            "margin": null,
            "max_height": null,
            "max_width": null,
            "min_height": null,
            "min_width": null,
            "object_fit": null,
            "object_position": null,
            "order": null,
            "overflow": null,
            "overflow_x": null,
            "overflow_y": null,
            "padding": null,
            "right": null,
            "top": null,
            "visibility": null,
            "width": null
          }
        },
        "0ee6811932534138b0f75f144703c20b": {
          "model_module": "@jupyter-widgets/controls",
          "model_name": "ProgressStyleModel",
          "model_module_version": "1.5.0",
          "state": {
            "_model_module": "@jupyter-widgets/controls",
            "_model_module_version": "1.5.0",
            "_model_name": "ProgressStyleModel",
            "_view_count": null,
            "_view_module": "@jupyter-widgets/base",
            "_view_module_version": "1.2.0",
            "_view_name": "StyleView",
            "bar_color": null,
            "description_width": ""
          }
        },
        "61f4d048d7b443ebbbedf6bba936753a": {
          "model_module": "@jupyter-widgets/base",
          "model_name": "LayoutModel",
          "model_module_version": "1.2.0",
          "state": {
            "_model_module": "@jupyter-widgets/base",
            "_model_module_version": "1.2.0",
            "_model_name": "LayoutModel",
            "_view_count": null,
            "_view_module": "@jupyter-widgets/base",
            "_view_module_version": "1.2.0",
            "_view_name": "LayoutView",
            "align_content": null,
            "align_items": null,
            "align_self": null,
            "border": null,
            "bottom": null,
            "display": null,
            "flex": null,
            "flex_flow": null,
            "grid_area": null,
            "grid_auto_columns": null,
            "grid_auto_flow": null,
            "grid_auto_rows": null,
            "grid_column": null,
            "grid_gap": null,
            "grid_row": null,
            "grid_template_areas": null,
            "grid_template_columns": null,
            "grid_template_rows": null,
            "height": null,
            "justify_content": null,
            "justify_items": null,
            "left": null,
            "margin": null,
            "max_height": null,
            "max_width": null,
            "min_height": null,
            "min_width": null,
            "object_fit": null,
            "object_position": null,
            "order": null,
            "overflow": null,
            "overflow_x": null,
            "overflow_y": null,
            "padding": null,
            "right": null,
            "top": null,
            "visibility": null,
            "width": null
          }
        },
        "2349be794d20451abc16f6f3d92e6195": {
          "model_module": "@jupyter-widgets/controls",
          "model_name": "DescriptionStyleModel",
          "model_module_version": "1.5.0",
          "state": {
            "_model_module": "@jupyter-widgets/controls",
            "_model_module_version": "1.5.0",
            "_model_name": "DescriptionStyleModel",
            "_view_count": null,
            "_view_module": "@jupyter-widgets/base",
            "_view_module_version": "1.2.0",
            "_view_name": "StyleView",
            "description_width": ""
          }
        }
      }
    }
  },
  "nbformat": 4,
  "nbformat_minor": 0
}